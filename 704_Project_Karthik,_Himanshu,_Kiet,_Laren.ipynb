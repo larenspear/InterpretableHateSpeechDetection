{
  "nbformat": 4,
  "nbformat_minor": 0,
  "metadata": {
    "colab": {
      "provenance": [],
      "collapsed_sections": []
    },
    "kernelspec": {
      "name": "python3",
      "display_name": "Python 3"
    },
    "language_info": {
      "name": "python"
    }
  },
  "cells": [
    {
      "cell_type": "code",
      "source": [
        "from google.colab import drive\n",
        "drive.mount('/content/drive')"
      ],
      "metadata": {
        "colab": {
          "base_uri": "https://localhost:8080/"
        },
        "id": "_gc6kJ2yctRN",
        "outputId": "7bfc2bac-f25d-4c25-ab70-a717607f56fe"
      },
      "execution_count": null,
      "outputs": [
        {
          "output_type": "stream",
          "name": "stdout",
          "text": [
            "Mounted at /content/drive\n"
          ]
        }
      ]
    },
    {
      "cell_type": "code",
      "execution_count": null,
      "metadata": {
        "id": "M9NcmQlm40j8"
      },
      "outputs": [],
      "source": [
        "import pandas as pd\n",
        "import re\n",
        "import math\n",
        "import string\n",
        "import textblob\n",
        "\n",
        "import gensim\n",
        "from gensim.utils import simple_preprocess\n",
        "from gensim.parsing.preprocessing import STOPWORDS\n",
        "from gensim import corpora\n",
        "from nltk.stem import WordNetLemmatizer, SnowballStemmer\n",
        "from nltk.stem.porter import *\n",
        "import numpy as np\n",
        "\n",
        "from sklearn.feature_extraction.text import TfidfVectorizer"
      ]
    },
    {
      "cell_type": "code",
      "source": [
        "def preprocess_text(text) :\n",
        "  full_line = text \n",
        "  full_line = re.sub(r'#([^ ]*)', r'\\1', full_line)\n",
        "  full_line = re.sub(r'https.*[^ ]', 'URL', full_line)\n",
        "  full_line = re.sub(r'http.*[^ ]', 'URL', full_line)\n",
        "  full_line = re.sub(r'@([^ ]*)', '@USER', full_line)\n",
        "  full_line = re.sub(r'(:.*?:)', r' \\1 ', full_line)\n",
        "  full_line = re.sub(' +', ' ', full_line)\n",
        "  full_line = re.sub('\\n', '', full_line)\n",
        "  full_line = re.sub('>', '', full_line)\n",
        "  return full_line\n",
        "\n",
        "\n",
        "def lemmatize_stemming(text):\n",
        "    return WordNetLemmatizer().lemmatize(text, pos='v')\n",
        "\n",
        "def preprocess(text):\n",
        "    result = []\n",
        "    for token in gensim.utils.simple_preprocess(text):\n",
        "        if token not in gensim.parsing.preprocessing.STOPWORDS and len(token) > 2:\n",
        "            result.append(lemmatize_stemming(token))\n",
        "    return result"
      ],
      "metadata": {
        "id": "pOKPFwYn48iC"
      },
      "execution_count": null,
      "outputs": []
    },
    {
      "cell_type": "code",
      "source": [
        ">>> import nltk\n",
        ">>> nltk.download('wordnet')"
      ],
      "metadata": {
        "colab": {
          "base_uri": "https://localhost:8080/"
        },
        "id": "sHKOhiqi8989",
        "outputId": "5d1bd613-43a8-4df3-9ec0-11a0d70b6f2f"
      },
      "execution_count": null,
      "outputs": [
        {
          "output_type": "stream",
          "name": "stdout",
          "text": [
            "[nltk_data] Downloading package wordnet to /root/nltk_data...\n",
            "[nltk_data]   Unzipping corpora/wordnet.zip.\n"
          ]
        },
        {
          "output_type": "execute_result",
          "data": {
            "text/plain": [
              "True"
            ]
          },
          "metadata": {},
          "execution_count": 4
        }
      ]
    },
    {
      "cell_type": "markdown",
      "source": [
        "Combine dataframe"
      ],
      "metadata": {
        "id": "t3IeZIGi8Dyk"
      }
    },
    {
      "cell_type": "code",
      "source": [
        "# Himanshu\n",
        "# reddit_path = '/content/drive/MyDrive/DASC-Datasets/reddit_hatespeech_dataset.csv'\n",
        "# gab_path = '/content/drive/MyDrive/DASC-Datasets/gab_hatespeech_dataset.csv'\n",
        "\n",
        "# Kiet\n",
        "reddit_path = '/content/drive/MyDrive/Classroom/Data Analytics/Term Project/Hatespeech/reddit_hatespeech_dataset.csv'\n",
        "gab_path = '/content/drive/MyDrive/Classroom/Data Analytics/Term Project/Hatespeech/gab_hatespeech_dataset.csv'\n",
        "\n",
        "# #Laren\n",
        "# reddit_path = '/content/drive/MyDrive/Classroom/Data Analytics/Term Project/Hatespeech/reddit_hatespeech_dataset.csv'\n",
        "# gab_path = '/content/drive/MyDrive/Classroom/Data Analytics/Term Project/Hatespeech/gab_hatespeech_dataset.csv'\n",
        "\n",
        "df_r = pd.read_csv(reddit_path)\n",
        "df_g = pd.read_csv(gab_path)\n",
        "df = pd.concat([df_r, df_g])\n",
        "df = df.reset_index(drop=True)\n",
        "df['text'] = df.dropna()\n",
        "df = df.reset_index(drop=True)\n",
        "df['tokens'] = df['text'].fillna('').astype(str).map(preprocess)\n",
        "df"
      ],
      "metadata": {
        "colab": {
          "base_uri": "https://localhost:8080/",
          "height": 424
        },
        "id": "A-qk4C2w8Dam",
        "outputId": "771df29d-f325-4060-dbcb-d054e29a7d5c"
      },
      "execution_count": null,
      "outputs": [
        {
          "output_type": "execute_result",
          "data": {
            "text/html": [
              "<div>\n",
              "<style scoped>\n",
              "    .dataframe tbody tr th:only-of-type {\n",
              "        vertical-align: middle;\n",
              "    }\n",
              "\n",
              "    .dataframe tbody tr th {\n",
              "        vertical-align: top;\n",
              "    }\n",
              "\n",
              "    .dataframe thead th {\n",
              "        text-align: right;\n",
              "    }\n",
              "</style>\n",
              "<table border=\"1\" class=\"dataframe\">\n",
              "  <thead>\n",
              "    <tr style=\"text-align: right;\">\n",
              "      <th></th>\n",
              "      <th>text</th>\n",
              "      <th>label</th>\n",
              "      <th>tokens</th>\n",
              "    </tr>\n",
              "  </thead>\n",
              "  <tbody>\n",
              "    <tr>\n",
              "      <th>0</th>\n",
              "      <td>a subsection of retarded hungarians? ohh boy. ...</td>\n",
              "      <td>1</td>\n",
              "      <td>[subsection, retard, hungarians, ohh, boy, bra...</td>\n",
              "    </tr>\n",
              "    <tr>\n",
              "      <th>1</th>\n",
              "      <td>hiii. just got off work. 444 is mainly the typ...</td>\n",
              "      <td>0</td>\n",
              "      <td>[hiii, get, work, mainly, typa, guy, imagine, ...</td>\n",
              "    </tr>\n",
              "    <tr>\n",
              "      <th>2</th>\n",
              "      <td>wow i guess soyboys are the same in every country</td>\n",
              "      <td>0</td>\n",
              "      <td>[wow, guess, soyboys, country]</td>\n",
              "    </tr>\n",
              "    <tr>\n",
              "      <th>3</th>\n",
              "      <td>owen benjamin's soyboy song goes for every cou...</td>\n",
              "      <td>0</td>\n",
              "      <td>[owen, benjamin, soyboy, song, go, country, am...</td>\n",
              "    </tr>\n",
              "    <tr>\n",
              "      <th>4</th>\n",
              "      <td>\"y'all hear sumn?\" by all means i live in a sm...</td>\n",
              "      <td>0</td>\n",
              "      <td>[hear, sumn, mean, live, small, town, work, pe...</td>\n",
              "    </tr>\n",
              "    <tr>\n",
              "      <th>...</th>\n",
              "      <td>...</td>\n",
              "      <td>...</td>\n",
              "      <td>...</td>\n",
              "    </tr>\n",
              "    <tr>\n",
              "      <th>48987</th>\n",
              "      <td>fucking retard</td>\n",
              "      <td>1</td>\n",
              "      <td>[fuck, retard]</td>\n",
              "    </tr>\n",
              "    <tr>\n",
              "      <th>48988</th>\n",
              "      <td>twitter banned me and reported me to the fbi f...</td>\n",
              "      <td>0</td>\n",
              "      <td>[twitter, ban, report, fbi, state, obvious, or...</td>\n",
              "    </tr>\n",
              "    <tr>\n",
              "      <th>48989</th>\n",
              "      <td>i was routinely suspended for saying fuck, and...</td>\n",
              "      <td>1</td>\n",
              "      <td>[routinely, suspend, say, fuck, ban, call, pro...</td>\n",
              "    </tr>\n",
              "    <tr>\n",
              "      <th>48990</th>\n",
              "      <td>they got me for dropping the cunt bomb... a lot.</td>\n",
              "      <td>1</td>\n",
              "      <td>[get, drop, cunt, bomb, lot]</td>\n",
              "    </tr>\n",
              "    <tr>\n",
              "      <th>48991</th>\n",
              "      <td>how absolutely unbelievably fascinating? a pak...</td>\n",
              "      <td>1</td>\n",
              "      <td>[absolutely, unbelievably, fascinate, pakistan...</td>\n",
              "    </tr>\n",
              "  </tbody>\n",
              "</table>\n",
              "<p>48992 rows × 3 columns</p>\n",
              "</div>"
            ],
            "text/plain": [
              "                                                    text  ...                                             tokens\n",
              "0      a subsection of retarded hungarians? ohh boy. ...  ...  [subsection, retard, hungarians, ohh, boy, bra...\n",
              "1      hiii. just got off work. 444 is mainly the typ...  ...  [hiii, get, work, mainly, typa, guy, imagine, ...\n",
              "2      wow i guess soyboys are the same in every country  ...                     [wow, guess, soyboys, country]\n",
              "3      owen benjamin's soyboy song goes for every cou...  ...  [owen, benjamin, soyboy, song, go, country, am...\n",
              "4      \"y'all hear sumn?\" by all means i live in a sm...  ...  [hear, sumn, mean, live, small, town, work, pe...\n",
              "...                                                  ...  ...                                                ...\n",
              "48987                                     fucking retard  ...                                     [fuck, retard]\n",
              "48988  twitter banned me and reported me to the fbi f...  ...  [twitter, ban, report, fbi, state, obvious, or...\n",
              "48989  i was routinely suspended for saying fuck, and...  ...  [routinely, suspend, say, fuck, ban, call, pro...\n",
              "48990   they got me for dropping the cunt bomb... a lot.  ...                       [get, drop, cunt, bomb, lot]\n",
              "48991  how absolutely unbelievably fascinating? a pak...  ...  [absolutely, unbelievably, fascinate, pakistan...\n",
              "\n",
              "[48992 rows x 3 columns]"
            ]
          },
          "metadata": {},
          "execution_count": 5
        }
      ]
    },
    {
      "cell_type": "code",
      "source": [
        "# df.to_csv('combined_data.csv')"
      ],
      "metadata": {
        "id": "IrN7lfQBr83M"
      },
      "execution_count": null,
      "outputs": []
    },
    {
      "cell_type": "code",
      "source": [
        "# df['tokens'] = df['text'].apply(preprocess)"
      ],
      "metadata": {
        "id": "cf_byTYu9otp"
      },
      "execution_count": null,
      "outputs": []
    },
    {
      "cell_type": "markdown",
      "source": [
        "TFIDF Calculation"
      ],
      "metadata": {
        "id": "Oc36Ca0S6C4p"
      }
    },
    {
      "cell_type": "code",
      "source": [
        "# def identity_tokenizer(text):\n",
        "#   return text\n",
        "\n",
        "# tfidf = TfidfVectorizer(tokenizer=identity_tokenizer, stop_words='english', lowercase=False)    \n",
        "# tfidf_wm = tfidf.fit_transform(df['tokens'])"
      ],
      "metadata": {
        "id": "Cste5VEi4-OI"
      },
      "execution_count": null,
      "outputs": []
    },
    {
      "cell_type": "markdown",
      "source": [
        "## Features"
      ],
      "metadata": {
        "id": "F7L_8bchYw9c"
      }
    },
    {
      "cell_type": "code",
      "source": [
        "df['char_count'] = df['text'].fillna('').astype(str).map(len)\n",
        "df['word_count'] = df['text'].fillna('').astype(str).map(lambda x: len(x.split()))\n",
        "df['word_density'] = df['char_count'] / (df['word_count']+1)\n",
        "df['punctuation_count'] = df['text'].fillna('').astype(str).map(lambda x: len(\"\".join(_ for _ in x if _ in string.punctuation))) \n",
        "# df['title_word_count'] = df['text'].fillna('').astype(str).map(lambda x: len([wrd for wrd in x.split() if wrd.istitle()]))\n",
        "# df['upper_case_word_count'] = df['text'].fillna('').astype(str).map(lambda x: len([wrd for wrd in x.split() if wrd.isupper()]))\n",
        "\n",
        "import nltk\n",
        "nltk.download('punkt')\n",
        "nltk.download('averaged_perceptron_tagger')\n",
        "\n",
        "pos_family = {\n",
        "    'noun' : ['NN','NNS','NNP','NNPS'],\n",
        "    'pron' : ['PRP','PRP$','WP','WP$'],\n",
        "    'verb' : ['VB','VBD','VBG','VBN','VBP','VBZ'],\n",
        "    'adj' :  ['JJ','JJR','JJS'],\n",
        "    'adv' : ['RB','RBR','RBS','WRB']\n",
        "}\n",
        "\n",
        "# function to check and get the part of speech tag count of a words in a given sentence\n",
        "def check_pos_tag(x, flag):\n",
        "    cnt = 0\n",
        "    try:\n",
        "        wiki = textblob.TextBlob(x)\n",
        "        for tup in wiki.tags:\n",
        "            ppo = list(tup)[1]\n",
        "            if ppo in pos_family[flag]:\n",
        "                cnt += 1\n",
        "    except:\n",
        "        pass\n",
        "    return cnt\n",
        "\n",
        "df['noun_count'] =  df['text'].fillna('').astype(str).map(lambda x: check_pos_tag(x, 'noun'))\n",
        "df['verb_count'] =  df['text'].fillna('').astype(str).map(lambda x: check_pos_tag(x, 'verb'))\n",
        "df['adj_count'] = df['text'].fillna('').astype(str).map(lambda x: check_pos_tag(x, 'adj'))\n",
        "df['adv_count'] = df['text'].fillna('').astype(str).map(lambda x: check_pos_tag(x, 'adv'))\n",
        "df['pron_count'] = df['text'].fillna('').astype(str).map(lambda x: check_pos_tag(x, 'pron'))"
      ],
      "metadata": {
        "id": "Sd__vESCYwMm",
        "colab": {
          "base_uri": "https://localhost:8080/"
        },
        "outputId": "0e03490e-2647-4b2b-924e-821c257b0648"
      },
      "execution_count": null,
      "outputs": [
        {
          "output_type": "stream",
          "name": "stdout",
          "text": [
            "[nltk_data] Downloading package punkt to /root/nltk_data...\n",
            "[nltk_data]   Unzipping tokenizers/punkt.zip.\n",
            "[nltk_data] Downloading package averaged_perceptron_tagger to\n",
            "[nltk_data]     /root/nltk_data...\n",
            "[nltk_data]   Unzipping taggers/averaged_perceptron_tagger.zip.\n"
          ]
        }
      ]
    },
    {
      "cell_type": "code",
      "source": [
        "df"
      ],
      "metadata": {
        "id": "Wy0SQGLmgV1z",
        "colab": {
          "base_uri": "https://localhost:8080/",
          "height": 424
        },
        "outputId": "08a744eb-67a7-4a87-9d84-dc4340b9c1d6"
      },
      "execution_count": null,
      "outputs": [
        {
          "output_type": "execute_result",
          "data": {
            "text/html": [
              "<div>\n",
              "<style scoped>\n",
              "    .dataframe tbody tr th:only-of-type {\n",
              "        vertical-align: middle;\n",
              "    }\n",
              "\n",
              "    .dataframe tbody tr th {\n",
              "        vertical-align: top;\n",
              "    }\n",
              "\n",
              "    .dataframe thead th {\n",
              "        text-align: right;\n",
              "    }\n",
              "</style>\n",
              "<table border=\"1\" class=\"dataframe\">\n",
              "  <thead>\n",
              "    <tr style=\"text-align: right;\">\n",
              "      <th></th>\n",
              "      <th>text</th>\n",
              "      <th>label</th>\n",
              "      <th>tokens</th>\n",
              "      <th>char_count</th>\n",
              "      <th>word_count</th>\n",
              "      <th>word_density</th>\n",
              "      <th>punctuation_count</th>\n",
              "      <th>noun_count</th>\n",
              "      <th>verb_count</th>\n",
              "      <th>adj_count</th>\n",
              "      <th>adv_count</th>\n",
              "      <th>pron_count</th>\n",
              "    </tr>\n",
              "  </thead>\n",
              "  <tbody>\n",
              "    <tr>\n",
              "      <th>0</th>\n",
              "      <td>a subsection of retarded hungarians? ohh boy. ...</td>\n",
              "      <td>1</td>\n",
              "      <td>[subsection, retard, hungarians, ohh, boy, bra...</td>\n",
              "      <td>146</td>\n",
              "      <td>26</td>\n",
              "      <td>5.407407</td>\n",
              "      <td>3</td>\n",
              "      <td>8</td>\n",
              "      <td>3</td>\n",
              "      <td>3</td>\n",
              "      <td>1</td>\n",
              "      <td>1</td>\n",
              "    </tr>\n",
              "    <tr>\n",
              "      <th>1</th>\n",
              "      <td>hiii. just got off work. 444 is mainly the typ...</td>\n",
              "      <td>0</td>\n",
              "      <td>[hiii, get, work, mainly, typa, guy, imagine, ...</td>\n",
              "      <td>252</td>\n",
              "      <td>46</td>\n",
              "      <td>5.361702</td>\n",
              "      <td>5</td>\n",
              "      <td>9</td>\n",
              "      <td>8</td>\n",
              "      <td>8</td>\n",
              "      <td>4</td>\n",
              "      <td>6</td>\n",
              "    </tr>\n",
              "    <tr>\n",
              "      <th>2</th>\n",
              "      <td>wow i guess soyboys are the same in every country</td>\n",
              "      <td>0</td>\n",
              "      <td>[wow, guess, soyboys, country]</td>\n",
              "      <td>49</td>\n",
              "      <td>10</td>\n",
              "      <td>4.454545</td>\n",
              "      <td>0</td>\n",
              "      <td>5</td>\n",
              "      <td>1</td>\n",
              "      <td>1</td>\n",
              "      <td>0</td>\n",
              "      <td>0</td>\n",
              "    </tr>\n",
              "    <tr>\n",
              "      <th>3</th>\n",
              "      <td>owen benjamin's soyboy song goes for every cou...</td>\n",
              "      <td>0</td>\n",
              "      <td>[owen, benjamin, soyboy, song, go, country, am...</td>\n",
              "      <td>82</td>\n",
              "      <td>14</td>\n",
              "      <td>5.466667</td>\n",
              "      <td>4</td>\n",
              "      <td>4</td>\n",
              "      <td>3</td>\n",
              "      <td>1</td>\n",
              "      <td>2</td>\n",
              "      <td>1</td>\n",
              "    </tr>\n",
              "    <tr>\n",
              "      <th>4</th>\n",
              "      <td>\"y'all hear sumn?\" by all means i live in a sm...</td>\n",
              "      <td>0</td>\n",
              "      <td>[hear, sumn, mean, live, small, town, work, pe...</td>\n",
              "      <td>318</td>\n",
              "      <td>54</td>\n",
              "      <td>5.781818</td>\n",
              "      <td>17</td>\n",
              "      <td>18</td>\n",
              "      <td>12</td>\n",
              "      <td>4</td>\n",
              "      <td>6</td>\n",
              "      <td>3</td>\n",
              "    </tr>\n",
              "    <tr>\n",
              "      <th>...</th>\n",
              "      <td>...</td>\n",
              "      <td>...</td>\n",
              "      <td>...</td>\n",
              "      <td>...</td>\n",
              "      <td>...</td>\n",
              "      <td>...</td>\n",
              "      <td>...</td>\n",
              "      <td>...</td>\n",
              "      <td>...</td>\n",
              "      <td>...</td>\n",
              "      <td>...</td>\n",
              "      <td>...</td>\n",
              "    </tr>\n",
              "    <tr>\n",
              "      <th>48987</th>\n",
              "      <td>fucking retard</td>\n",
              "      <td>1</td>\n",
              "      <td>[fuck, retard]</td>\n",
              "      <td>14</td>\n",
              "      <td>2</td>\n",
              "      <td>4.666667</td>\n",
              "      <td>0</td>\n",
              "      <td>1</td>\n",
              "      <td>1</td>\n",
              "      <td>0</td>\n",
              "      <td>0</td>\n",
              "      <td>0</td>\n",
              "    </tr>\n",
              "    <tr>\n",
              "      <th>48988</th>\n",
              "      <td>twitter banned me and reported me to the fbi f...</td>\n",
              "      <td>0</td>\n",
              "      <td>[twitter, ban, report, fbi, state, obvious, or...</td>\n",
              "      <td>374</td>\n",
              "      <td>73</td>\n",
              "      <td>5.054054</td>\n",
              "      <td>9</td>\n",
              "      <td>22</td>\n",
              "      <td>12</td>\n",
              "      <td>5</td>\n",
              "      <td>3</td>\n",
              "      <td>9</td>\n",
              "    </tr>\n",
              "    <tr>\n",
              "      <th>48989</th>\n",
              "      <td>i was routinely suspended for saying fuck, and...</td>\n",
              "      <td>1</td>\n",
              "      <td>[routinely, suspend, say, fuck, ban, call, pro...</td>\n",
              "      <td>217</td>\n",
              "      <td>35</td>\n",
              "      <td>6.027778</td>\n",
              "      <td>5</td>\n",
              "      <td>14</td>\n",
              "      <td>9</td>\n",
              "      <td>3</td>\n",
              "      <td>2</td>\n",
              "      <td>0</td>\n",
              "    </tr>\n",
              "    <tr>\n",
              "      <th>48990</th>\n",
              "      <td>they got me for dropping the cunt bomb... a lot.</td>\n",
              "      <td>1</td>\n",
              "      <td>[get, drop, cunt, bomb, lot]</td>\n",
              "      <td>48</td>\n",
              "      <td>10</td>\n",
              "      <td>4.363636</td>\n",
              "      <td>4</td>\n",
              "      <td>3</td>\n",
              "      <td>2</td>\n",
              "      <td>0</td>\n",
              "      <td>0</td>\n",
              "      <td>2</td>\n",
              "    </tr>\n",
              "    <tr>\n",
              "      <th>48991</th>\n",
              "      <td>how absolutely unbelievably fascinating? a pak...</td>\n",
              "      <td>1</td>\n",
              "      <td>[absolutely, unbelievably, fascinate, pakistan...</td>\n",
              "      <td>206</td>\n",
              "      <td>29</td>\n",
              "      <td>6.866667</td>\n",
              "      <td>6</td>\n",
              "      <td>7</td>\n",
              "      <td>9</td>\n",
              "      <td>3</td>\n",
              "      <td>6</td>\n",
              "      <td>0</td>\n",
              "    </tr>\n",
              "  </tbody>\n",
              "</table>\n",
              "<p>48992 rows × 12 columns</p>\n",
              "</div>"
            ],
            "text/plain": [
              "                                                    text  ...  pron_count\n",
              "0      a subsection of retarded hungarians? ohh boy. ...  ...           1\n",
              "1      hiii. just got off work. 444 is mainly the typ...  ...           6\n",
              "2      wow i guess soyboys are the same in every country  ...           0\n",
              "3      owen benjamin's soyboy song goes for every cou...  ...           1\n",
              "4      \"y'all hear sumn?\" by all means i live in a sm...  ...           3\n",
              "...                                                  ...  ...         ...\n",
              "48987                                     fucking retard  ...           0\n",
              "48988  twitter banned me and reported me to the fbi f...  ...           9\n",
              "48989  i was routinely suspended for saying fuck, and...  ...           0\n",
              "48990   they got me for dropping the cunt bomb... a lot.  ...           2\n",
              "48991  how absolutely unbelievably fascinating? a pak...  ...           0\n",
              "\n",
              "[48992 rows x 12 columns]"
            ]
          },
          "metadata": {},
          "execution_count": 11
        }
      ]
    },
    {
      "cell_type": "markdown",
      "source": [
        "# PCA"
      ],
      "metadata": {
        "id": "-Jy0XOFrZSZj"
      }
    },
    {
      "cell_type": "code",
      "source": [
        "features_df = df[['char_count','word_count',\t'word_density',\t'punctuation_count',\t'noun_count',\t'verb_count',\t'adj_count',\t'adv_count',\t'pron_count', 'label']]\n",
        "features_df\n",
        "\n",
        "#\n",
        "# Perform one-hot encoding\n",
        "#\n",
        "categorical_columns = features_df.columns[features_df.dtypes == object] # Find all categorical columns\n",
        " \n",
        "features_df = pd.get_dummies(features_df, columns = categorical_columns, drop_first=True)\n",
        "#\n",
        "# Create training / test split\n",
        "#\n",
        "from sklearn.model_selection import train_test_split\n",
        "X_train, X_test, y_train, y_test = X_train, X_test, y_train, y_test = train_test_split(features_df[features_df.columns[features_df.columns != 'label']],\n",
        "                   features_df['label'], test_size=0.25, random_state=1)\n",
        "\n",
        "#\n",
        "# Standardize the dataset; This is very important before you apply PCA\n",
        "#\n",
        "from sklearn.preprocessing import StandardScaler\n",
        "sc = StandardScaler()\n",
        "sc.fit(X_train)\n",
        "\n",
        "X_train_std = sc.transform(X_train)\n",
        "X_test_std = sc.transform(X_test)\n",
        "#\n",
        "# Perform PCA\n",
        "#\n",
        "from sklearn.decomposition import PCA\n",
        "from sklearn.ensemble import RandomForestClassifier\n",
        "\n",
        "def performPCAandTestWithRF(k):\n",
        "  pca = PCA(n_components=k)\n",
        "  #\n",
        "  # Determine transformed features\n",
        "  #\n",
        "  X_train_pca = pca.fit_transform(X_train_std)\n",
        "  X_test_pca = pca.transform(X_test_std)\n",
        "\n",
        "  clf = RandomForestClassifier(n_estimators=100, random_state=0)\n",
        "  clf.fit(X_train_pca, y_train)\n",
        "  y_pred = clf.predict(X_test_pca)\n",
        "\n",
        "  #Import scikit-learn metrics module for accuracy calculation\n",
        "  from sklearn import metrics\n",
        "  # Model Accuracy, how often is the classifier correct?\n",
        "  print(\"Accuracy for k =\",k,\":\",metrics.accuracy_score(y_test, y_pred))\n",
        "\n",
        "values = [3,4,5,6,7,8,9,10]\n",
        "for k in values:\n",
        "  performPCAandTestWithRF(k)"
      ],
      "metadata": {
        "id": "hP8yRjBZZTz7",
        "colab": {
          "base_uri": "https://localhost:8080/",
          "height": 487
        },
        "outputId": "3b4aec33-0a06-4ea0-d6b6-549f73e89fcf"
      },
      "execution_count": null,
      "outputs": [
        {
          "output_type": "stream",
          "name": "stdout",
          "text": [
            "Accuracy for k = 3 : 0.5912802090137165\n",
            "Accuracy for k = 4 : 0.598791639451339\n",
            "Accuracy for k = 5 : 0.6089157413455258\n",
            "Accuracy for k = 6 : 0.6121815806662312\n",
            "Accuracy for k = 7 : 0.6100587851077727\n",
            "Accuracy for k = 8 : 0.6205094709340301\n",
            "Accuracy for k = 9 : 0.6217341606792945\n"
          ]
        },
        {
          "output_type": "error",
          "ename": "ValueError",
          "evalue": "ignored",
          "traceback": [
            "\u001b[0;31m---------------------------------------------------------------------------\u001b[0m",
            "\u001b[0;31mValueError\u001b[0m                                Traceback (most recent call last)",
            "\u001b[0;32m<ipython-input-13-281be76e57dd>\u001b[0m in \u001b[0;36m<module>\u001b[0;34m()\u001b[0m\n\u001b[1;32m     49\u001b[0m \u001b[0mvalues\u001b[0m \u001b[0;34m=\u001b[0m \u001b[0;34m[\u001b[0m\u001b[0;36m3\u001b[0m\u001b[0;34m,\u001b[0m\u001b[0;36m4\u001b[0m\u001b[0;34m,\u001b[0m\u001b[0;36m5\u001b[0m\u001b[0;34m,\u001b[0m\u001b[0;36m6\u001b[0m\u001b[0;34m,\u001b[0m\u001b[0;36m7\u001b[0m\u001b[0;34m,\u001b[0m\u001b[0;36m8\u001b[0m\u001b[0;34m,\u001b[0m\u001b[0;36m9\u001b[0m\u001b[0;34m,\u001b[0m\u001b[0;36m10\u001b[0m\u001b[0;34m]\u001b[0m\u001b[0;34m\u001b[0m\u001b[0;34m\u001b[0m\u001b[0m\n\u001b[1;32m     50\u001b[0m \u001b[0;32mfor\u001b[0m \u001b[0mk\u001b[0m \u001b[0;32min\u001b[0m \u001b[0mvalues\u001b[0m\u001b[0;34m:\u001b[0m\u001b[0;34m\u001b[0m\u001b[0;34m\u001b[0m\u001b[0m\n\u001b[0;32m---> 51\u001b[0;31m   \u001b[0mperformPCAandTestWithRF\u001b[0m\u001b[0;34m(\u001b[0m\u001b[0mk\u001b[0m\u001b[0;34m)\u001b[0m\u001b[0;34m\u001b[0m\u001b[0;34m\u001b[0m\u001b[0m\n\u001b[0m",
            "\u001b[0;32m<ipython-input-13-281be76e57dd>\u001b[0m in \u001b[0;36mperformPCAandTestWithRF\u001b[0;34m(k)\u001b[0m\n\u001b[1;32m     35\u001b[0m   \u001b[0;31m# Determine transformed features\u001b[0m\u001b[0;34m\u001b[0m\u001b[0;34m\u001b[0m\u001b[0;34m\u001b[0m\u001b[0m\n\u001b[1;32m     36\u001b[0m   \u001b[0;31m#\u001b[0m\u001b[0;34m\u001b[0m\u001b[0;34m\u001b[0m\u001b[0;34m\u001b[0m\u001b[0m\n\u001b[0;32m---> 37\u001b[0;31m   \u001b[0mX_train_pca\u001b[0m \u001b[0;34m=\u001b[0m \u001b[0mpca\u001b[0m\u001b[0;34m.\u001b[0m\u001b[0mfit_transform\u001b[0m\u001b[0;34m(\u001b[0m\u001b[0mX_train_std\u001b[0m\u001b[0;34m)\u001b[0m\u001b[0;34m\u001b[0m\u001b[0;34m\u001b[0m\u001b[0m\n\u001b[0m\u001b[1;32m     38\u001b[0m   \u001b[0mX_test_pca\u001b[0m \u001b[0;34m=\u001b[0m \u001b[0mpca\u001b[0m\u001b[0;34m.\u001b[0m\u001b[0mtransform\u001b[0m\u001b[0;34m(\u001b[0m\u001b[0mX_test_std\u001b[0m\u001b[0;34m)\u001b[0m\u001b[0;34m\u001b[0m\u001b[0;34m\u001b[0m\u001b[0m\n\u001b[1;32m     39\u001b[0m \u001b[0;34m\u001b[0m\u001b[0m\n",
            "\u001b[0;32m/usr/local/lib/python3.7/dist-packages/sklearn/decomposition/_pca.py\u001b[0m in \u001b[0;36mfit_transform\u001b[0;34m(self, X, y)\u001b[0m\n\u001b[1;32m    405\u001b[0m         \u001b[0mC\u001b[0m\u001b[0;34m-\u001b[0m\u001b[0mordered\u001b[0m \u001b[0marray\u001b[0m\u001b[0;34m,\u001b[0m \u001b[0muse\u001b[0m \u001b[0;34m'np.ascontiguousarray'\u001b[0m\u001b[0;34m.\u001b[0m\u001b[0;34m\u001b[0m\u001b[0;34m\u001b[0m\u001b[0m\n\u001b[1;32m    406\u001b[0m         \"\"\"\n\u001b[0;32m--> 407\u001b[0;31m         \u001b[0mU\u001b[0m\u001b[0;34m,\u001b[0m \u001b[0mS\u001b[0m\u001b[0;34m,\u001b[0m \u001b[0mVt\u001b[0m \u001b[0;34m=\u001b[0m \u001b[0mself\u001b[0m\u001b[0;34m.\u001b[0m\u001b[0m_fit\u001b[0m\u001b[0;34m(\u001b[0m\u001b[0mX\u001b[0m\u001b[0;34m)\u001b[0m\u001b[0;34m\u001b[0m\u001b[0;34m\u001b[0m\u001b[0m\n\u001b[0m\u001b[1;32m    408\u001b[0m         \u001b[0mU\u001b[0m \u001b[0;34m=\u001b[0m \u001b[0mU\u001b[0m\u001b[0;34m[\u001b[0m\u001b[0;34m:\u001b[0m\u001b[0;34m,\u001b[0m \u001b[0;34m:\u001b[0m \u001b[0mself\u001b[0m\u001b[0;34m.\u001b[0m\u001b[0mn_components_\u001b[0m\u001b[0;34m]\u001b[0m\u001b[0;34m\u001b[0m\u001b[0;34m\u001b[0m\u001b[0m\n\u001b[1;32m    409\u001b[0m \u001b[0;34m\u001b[0m\u001b[0m\n",
            "\u001b[0;32m/usr/local/lib/python3.7/dist-packages/sklearn/decomposition/_pca.py\u001b[0m in \u001b[0;36m_fit\u001b[0;34m(self, X)\u001b[0m\n\u001b[1;32m    455\u001b[0m         \u001b[0;31m# Call different fits for either full or truncated SVD\u001b[0m\u001b[0;34m\u001b[0m\u001b[0;34m\u001b[0m\u001b[0;34m\u001b[0m\u001b[0m\n\u001b[1;32m    456\u001b[0m         \u001b[0;32mif\u001b[0m \u001b[0mself\u001b[0m\u001b[0;34m.\u001b[0m\u001b[0m_fit_svd_solver\u001b[0m \u001b[0;34m==\u001b[0m \u001b[0;34m\"full\"\u001b[0m\u001b[0;34m:\u001b[0m\u001b[0;34m\u001b[0m\u001b[0;34m\u001b[0m\u001b[0m\n\u001b[0;32m--> 457\u001b[0;31m             \u001b[0;32mreturn\u001b[0m \u001b[0mself\u001b[0m\u001b[0;34m.\u001b[0m\u001b[0m_fit_full\u001b[0m\u001b[0;34m(\u001b[0m\u001b[0mX\u001b[0m\u001b[0;34m,\u001b[0m \u001b[0mn_components\u001b[0m\u001b[0;34m)\u001b[0m\u001b[0;34m\u001b[0m\u001b[0;34m\u001b[0m\u001b[0m\n\u001b[0m\u001b[1;32m    458\u001b[0m         \u001b[0;32melif\u001b[0m \u001b[0mself\u001b[0m\u001b[0;34m.\u001b[0m\u001b[0m_fit_svd_solver\u001b[0m \u001b[0;32min\u001b[0m \u001b[0;34m[\u001b[0m\u001b[0;34m\"arpack\"\u001b[0m\u001b[0;34m,\u001b[0m \u001b[0;34m\"randomized\"\u001b[0m\u001b[0;34m]\u001b[0m\u001b[0;34m:\u001b[0m\u001b[0;34m\u001b[0m\u001b[0;34m\u001b[0m\u001b[0m\n\u001b[1;32m    459\u001b[0m             \u001b[0;32mreturn\u001b[0m \u001b[0mself\u001b[0m\u001b[0;34m.\u001b[0m\u001b[0m_fit_truncated\u001b[0m\u001b[0;34m(\u001b[0m\u001b[0mX\u001b[0m\u001b[0;34m,\u001b[0m \u001b[0mn_components\u001b[0m\u001b[0;34m,\u001b[0m \u001b[0mself\u001b[0m\u001b[0;34m.\u001b[0m\u001b[0m_fit_svd_solver\u001b[0m\u001b[0;34m)\u001b[0m\u001b[0;34m\u001b[0m\u001b[0;34m\u001b[0m\u001b[0m\n",
            "\u001b[0;32m/usr/local/lib/python3.7/dist-packages/sklearn/decomposition/_pca.py\u001b[0m in \u001b[0;36m_fit_full\u001b[0;34m(self, X, n_components)\u001b[0m\n\u001b[1;32m    476\u001b[0m                 \u001b[0;34m\"n_components=%r must be between 0 and \"\u001b[0m\u001b[0;34m\u001b[0m\u001b[0;34m\u001b[0m\u001b[0m\n\u001b[1;32m    477\u001b[0m                 \u001b[0;34m\"min(n_samples, n_features)=%r with \"\u001b[0m\u001b[0;34m\u001b[0m\u001b[0;34m\u001b[0m\u001b[0m\n\u001b[0;32m--> 478\u001b[0;31m                 \u001b[0;34m\"svd_solver='full'\"\u001b[0m \u001b[0;34m%\u001b[0m \u001b[0;34m(\u001b[0m\u001b[0mn_components\u001b[0m\u001b[0;34m,\u001b[0m \u001b[0mmin\u001b[0m\u001b[0;34m(\u001b[0m\u001b[0mn_samples\u001b[0m\u001b[0;34m,\u001b[0m \u001b[0mn_features\u001b[0m\u001b[0;34m)\u001b[0m\u001b[0;34m)\u001b[0m\u001b[0;34m\u001b[0m\u001b[0;34m\u001b[0m\u001b[0m\n\u001b[0m\u001b[1;32m    479\u001b[0m             )\n\u001b[1;32m    480\u001b[0m         \u001b[0;32melif\u001b[0m \u001b[0mn_components\u001b[0m \u001b[0;34m>=\u001b[0m \u001b[0;36m1\u001b[0m\u001b[0;34m:\u001b[0m\u001b[0;34m\u001b[0m\u001b[0;34m\u001b[0m\u001b[0m\n",
            "\u001b[0;31mValueError\u001b[0m: n_components=10 must be between 0 and min(n_samples, n_features)=9 with svd_solver='full'"
          ]
        }
      ]
    },
    {
      "cell_type": "code",
      "source": [
        "clf = RandomForestClassifier(n_estimators=100, random_state=0)\n",
        "clf.fit(X_train, y_train)\n",
        "y_pred = clf.predict(X_test)\n",
        "\n",
        "#Import scikit-learn metrics module for accuracy calculation\n",
        "from sklearn import metrics\n",
        "# Model Accuracy, how often is the classifier correct?\n",
        "print(\"Accuracy w/o PCA:\", metrics.accuracy_score(y_test, y_pred))"
      ],
      "metadata": {
        "id": "PNnDUrLikLOJ",
        "colab": {
          "base_uri": "https://localhost:8080/"
        },
        "outputId": "b7c9cbfb-6ead-4104-a18d-f703aa7f17f2"
      },
      "execution_count": null,
      "outputs": [
        {
          "output_type": "stream",
          "name": "stdout",
          "text": [
            "Accuracy w/o PCA: 0.6145493141737427\n"
          ]
        }
      ]
    },
    {
      "cell_type": "markdown",
      "source": [
        "LDA as feature"
      ],
      "metadata": {
        "id": "qw-xFbOf6J1p"
      }
    },
    {
      "cell_type": "code",
      "source": [
        "dict_ = corpora.Dictionary(df['tokens'])\n",
        "print(dict_)\n",
        "doc_term_matrix = [dict_.doc2bow(i) for i in df['tokens']]\n",
        "\n",
        "lda = gensim.models.ldamodel.LdaModel\n",
        "lda_model = lda(doc_term_matrix, num_topics=2, id2word=dict_, passes=1, random_state=0, eval_every=None)\n",
        "print(lda_model.print_topics(num_topics=2, num_words=10))\n",
        "\n",
        "lda_label = []\n",
        "count = 0 \n",
        "for i in lda_model[doc_term_matrix] :\n",
        "  # print(\"doc: \",count, i)\n",
        "  try :\n",
        "    a = i[0][1]\n",
        "  except:\n",
        "    a = int(0)\n",
        "  try :\n",
        "    b = i[1][1]\n",
        "  except :\n",
        "    b = int(0)\n",
        "\n",
        "  if(a>b) :\n",
        "    lda_label.append(float(0))\n",
        "  else :\n",
        "    lda_label.append(float(1))\n",
        "  count+=1"
      ],
      "metadata": {
        "id": "jBsy9UL76LSU",
        "colab": {
          "base_uri": "https://localhost:8080/"
        },
        "outputId": "4ed4f963-4364-41c7-b0b9-53dd168854fe"
      },
      "execution_count": null,
      "outputs": [
        {
          "output_type": "stream",
          "name": "stdout",
          "text": [
            "Dictionary(32956 unique tokens: ['boy', 'brace', 'bulbasaur', 'come', 'countrymen']...)\n",
            "[(0, '0.021*\"nigger\" + 0.019*\"user\" + 0.016*\"white\" + 0.015*\"retard\" + 0.011*\"like\" + 0.010*\"people\" + 0.008*\"fuck\" + 0.007*\"faggot\" + 0.006*\"jews\" + 0.006*\"trump\"'), (1, '0.019*\"url\" + 0.012*\"gifwar\" + 0.010*\"faggot\" + 0.008*\"cunt\" + 0.008*\"like\" + 0.008*\"fuck\" + 0.006*\"get\" + 0.005*\"say\" + 0.005*\"go\" + 0.005*\"know\"')]\n"
          ]
        }
      ]
    },
    {
      "cell_type": "markdown",
      "source": [
        "##Column Transformer"
      ],
      "metadata": {
        "id": "ZkrMv3kACHes"
      }
    },
    {
      "cell_type": "code",
      "source": [
        "def combine(tokens) :\n",
        "  s = ''\n",
        "  for w in tokens :\n",
        "    s = s + w + \" \"\n",
        "  return s.strip() "
      ],
      "metadata": {
        "id": "Gt8cCbxWKXh6"
      },
      "execution_count": null,
      "outputs": []
    },
    {
      "cell_type": "code",
      "source": [
        "from sklearn.compose import ColumnTransformer"
      ],
      "metadata": {
        "id": "riVT8NGIEA_c"
      },
      "execution_count": null,
      "outputs": []
    },
    {
      "cell_type": "code",
      "source": [
        "transform = ColumnTransformer(\n",
        "    [('description_tfidf', TfidfVectorizer(stop_words = 'english'), 'token_text')],\n",
        "    remainder='passthrough')\n",
        "\n",
        "df['token_text'] = df['tokens'].apply(combine)\n",
        "df['lda'] = lda_label"
      ],
      "metadata": {
        "id": "T9vyCS1eBgWt"
      },
      "execution_count": null,
      "outputs": []
    },
    {
      "cell_type": "code",
      "source": [
        "# df.to_csv('/content/drive/MyDrive/Classroom/Data Analytics/Term Project/Hatespeech/df_with_features.csv', index=False)"
      ],
      "metadata": {
        "id": "wkxd5PHYEs-I"
      },
      "execution_count": null,
      "outputs": []
    },
    {
      "cell_type": "markdown",
      "source": [
        "##Training"
      ],
      "metadata": {
        "id": "Av_UnYC3FSuY"
      }
    },
    {
      "cell_type": "code",
      "source": [
        "from sklearn.ensemble import RandomForestClassifier\n",
        "from sklearn.model_selection import train_test_split"
      ],
      "metadata": {
        "id": "tdXW_IMwExrr"
      },
      "execution_count": null,
      "outputs": []
    },
    {
      "cell_type": "code",
      "source": [
        "# df = pd.read_csv(\"/content/drive/MyDrive/DASC-Datasets/df_with_features.csv\")"
      ],
      "metadata": {
        "id": "AwxXpdvF-6JH"
      },
      "execution_count": null,
      "outputs": []
    },
    {
      "cell_type": "code",
      "source": [
        "X = df[['char_count','word_count',\t'word_density',\t'punctuation_count',\t'noun_count',\t'verb_count',\t'adj_count',\t'adv_count',\t'pron_count', 'token_text', 'lda']]\n",
        "y = df['label']\n",
        "\n",
        "X"
      ],
      "metadata": {
        "id": "KOkXGc24FpEu",
        "colab": {
          "base_uri": "https://localhost:8080/",
          "height": 424
        },
        "outputId": "875fb5f2-c622-4fe4-b851-f50eef32528b"
      },
      "execution_count": null,
      "outputs": [
        {
          "output_type": "execute_result",
          "data": {
            "text/html": [
              "<div>\n",
              "<style scoped>\n",
              "    .dataframe tbody tr th:only-of-type {\n",
              "        vertical-align: middle;\n",
              "    }\n",
              "\n",
              "    .dataframe tbody tr th {\n",
              "        vertical-align: top;\n",
              "    }\n",
              "\n",
              "    .dataframe thead th {\n",
              "        text-align: right;\n",
              "    }\n",
              "</style>\n",
              "<table border=\"1\" class=\"dataframe\">\n",
              "  <thead>\n",
              "    <tr style=\"text-align: right;\">\n",
              "      <th></th>\n",
              "      <th>char_count</th>\n",
              "      <th>word_count</th>\n",
              "      <th>word_density</th>\n",
              "      <th>punctuation_count</th>\n",
              "      <th>noun_count</th>\n",
              "      <th>verb_count</th>\n",
              "      <th>adj_count</th>\n",
              "      <th>adv_count</th>\n",
              "      <th>pron_count</th>\n",
              "      <th>token_text</th>\n",
              "      <th>lda</th>\n",
              "    </tr>\n",
              "  </thead>\n",
              "  <tbody>\n",
              "    <tr>\n",
              "      <th>0</th>\n",
              "      <td>146</td>\n",
              "      <td>26</td>\n",
              "      <td>5.407407</td>\n",
              "      <td>3</td>\n",
              "      <td>8</td>\n",
              "      <td>3</td>\n",
              "      <td>3</td>\n",
              "      <td>1</td>\n",
              "      <td>1</td>\n",
              "      <td>subsection retard hungarians ohh boy brace liv...</td>\n",
              "      <td>1.0</td>\n",
              "    </tr>\n",
              "    <tr>\n",
              "      <th>1</th>\n",
              "      <td>252</td>\n",
              "      <td>46</td>\n",
              "      <td>5.361702</td>\n",
              "      <td>5</td>\n",
              "      <td>9</td>\n",
              "      <td>8</td>\n",
              "      <td>8</td>\n",
              "      <td>4</td>\n",
              "      <td>6</td>\n",
              "      <td>hiii get work mainly typa guy imagine write st...</td>\n",
              "      <td>1.0</td>\n",
              "    </tr>\n",
              "    <tr>\n",
              "      <th>2</th>\n",
              "      <td>49</td>\n",
              "      <td>10</td>\n",
              "      <td>4.454545</td>\n",
              "      <td>0</td>\n",
              "      <td>5</td>\n",
              "      <td>1</td>\n",
              "      <td>1</td>\n",
              "      <td>0</td>\n",
              "      <td>0</td>\n",
              "      <td>wow guess soyboys country</td>\n",
              "      <td>1.0</td>\n",
              "    </tr>\n",
              "    <tr>\n",
              "      <th>3</th>\n",
              "      <td>82</td>\n",
              "      <td>14</td>\n",
              "      <td>5.466667</td>\n",
              "      <td>4</td>\n",
              "      <td>4</td>\n",
              "      <td>3</td>\n",
              "      <td>1</td>\n",
              "      <td>2</td>\n",
              "      <td>1</td>\n",
              "      <td>owen benjamin soyboy song go country amaze</td>\n",
              "      <td>0.0</td>\n",
              "    </tr>\n",
              "    <tr>\n",
              "      <th>4</th>\n",
              "      <td>318</td>\n",
              "      <td>54</td>\n",
              "      <td>5.781818</td>\n",
              "      <td>17</td>\n",
              "      <td>18</td>\n",
              "      <td>12</td>\n",
              "      <td>4</td>\n",
              "      <td>6</td>\n",
              "      <td>3</td>\n",
              "      <td>hear sumn mean live small town work people ori...</td>\n",
              "      <td>0.0</td>\n",
              "    </tr>\n",
              "    <tr>\n",
              "      <th>...</th>\n",
              "      <td>...</td>\n",
              "      <td>...</td>\n",
              "      <td>...</td>\n",
              "      <td>...</td>\n",
              "      <td>...</td>\n",
              "      <td>...</td>\n",
              "      <td>...</td>\n",
              "      <td>...</td>\n",
              "      <td>...</td>\n",
              "      <td>...</td>\n",
              "      <td>...</td>\n",
              "    </tr>\n",
              "    <tr>\n",
              "      <th>48987</th>\n",
              "      <td>14</td>\n",
              "      <td>2</td>\n",
              "      <td>4.666667</td>\n",
              "      <td>0</td>\n",
              "      <td>1</td>\n",
              "      <td>1</td>\n",
              "      <td>0</td>\n",
              "      <td>0</td>\n",
              "      <td>0</td>\n",
              "      <td>fuck retard</td>\n",
              "      <td>0.0</td>\n",
              "    </tr>\n",
              "    <tr>\n",
              "      <th>48988</th>\n",
              "      <td>374</td>\n",
              "      <td>73</td>\n",
              "      <td>5.054054</td>\n",
              "      <td>9</td>\n",
              "      <td>22</td>\n",
              "      <td>12</td>\n",
              "      <td>5</td>\n",
              "      <td>3</td>\n",
              "      <td>9</td>\n",
              "      <td>twitter ban report fbi state obvious order thr...</td>\n",
              "      <td>1.0</td>\n",
              "    </tr>\n",
              "    <tr>\n",
              "      <th>48989</th>\n",
              "      <td>217</td>\n",
              "      <td>35</td>\n",
              "      <td>6.027778</td>\n",
              "      <td>5</td>\n",
              "      <td>14</td>\n",
              "      <td>9</td>\n",
              "      <td>3</td>\n",
              "      <td>2</td>\n",
              "      <td>0</td>\n",
              "      <td>routinely suspend say fuck ban call prominent ...</td>\n",
              "      <td>1.0</td>\n",
              "    </tr>\n",
              "    <tr>\n",
              "      <th>48990</th>\n",
              "      <td>48</td>\n",
              "      <td>10</td>\n",
              "      <td>4.363636</td>\n",
              "      <td>4</td>\n",
              "      <td>3</td>\n",
              "      <td>2</td>\n",
              "      <td>0</td>\n",
              "      <td>0</td>\n",
              "      <td>2</td>\n",
              "      <td>get drop cunt bomb lot</td>\n",
              "      <td>1.0</td>\n",
              "    </tr>\n",
              "    <tr>\n",
              "      <th>48991</th>\n",
              "      <td>206</td>\n",
              "      <td>29</td>\n",
              "      <td>6.866667</td>\n",
              "      <td>6</td>\n",
              "      <td>7</td>\n",
              "      <td>9</td>\n",
              "      <td>3</td>\n",
              "      <td>6</td>\n",
              "      <td>0</td>\n",
              "      <td>absolutely unbelievably fascinate pakistani up...</td>\n",
              "      <td>1.0</td>\n",
              "    </tr>\n",
              "  </tbody>\n",
              "</table>\n",
              "<p>48992 rows × 11 columns</p>\n",
              "</div>"
            ],
            "text/plain": [
              "       char_count  ...  lda\n",
              "0             146  ...  1.0\n",
              "1             252  ...  1.0\n",
              "2              49  ...  1.0\n",
              "3              82  ...  0.0\n",
              "4             318  ...  0.0\n",
              "...           ...  ...  ...\n",
              "48987          14  ...  0.0\n",
              "48988         374  ...  1.0\n",
              "48989         217  ...  1.0\n",
              "48990          48  ...  1.0\n",
              "48991         206  ...  1.0\n",
              "\n",
              "[48992 rows x 11 columns]"
            ]
          },
          "metadata": {},
          "execution_count": 21
        }
      ]
    },
    {
      "cell_type": "code",
      "source": [
        "X_train, X_test, y_train, y_test = train_test_split(X, y, test_size=0.2, random_state=42)"
      ],
      "metadata": {
        "id": "4LSwJ5WYFcxS"
      },
      "execution_count": null,
      "outputs": []
    },
    {
      "cell_type": "markdown",
      "source": [
        "# **Run data on Models**"
      ],
      "metadata": {
        "id": "mDJMRIDwb7cw"
      }
    },
    {
      "cell_type": "code",
      "source": [
        "import matplotlib.pyplot as plt\n",
        "from sklearn.metrics import roc_curve\n",
        "from sklearn.metrics import roc_auc_score\n",
        "from sklearn.metrics import f1_score, precision_recall_fscore_support\n",
        "\n",
        "def compute_ROC_data(model, X_test, y_test):\n",
        "  lr_probs = model.predict_proba(X_test)\n",
        "  lr_probs = lr_probs[:, 1]\n",
        "  lr_auc = roc_auc_score(y_test, lr_probs)\n",
        "\n",
        "  lr_fpr, lr_tpr, _ = roc_curve(y_test, lr_probs)\n",
        "\n",
        "  return lr_auc, lr_fpr, lr_tpr"
      ],
      "metadata": {
        "id": "Bcf5cozXKsoj"
      },
      "execution_count": null,
      "outputs": []
    },
    {
      "cell_type": "markdown",
      "source": [
        "# Random Forest"
      ],
      "metadata": {
        "id": "7WOGLK4QyfH0"
      }
    },
    {
      "cell_type": "code",
      "source": [
        "from sklearn import model_selection, preprocessing, linear_model, naive_bayes, metrics, svm\n",
        "from sklearn.feature_extraction.text import TfidfVectorizer, CountVectorizer\n",
        "from sklearn import decomposition, ensemble\n",
        "from sklearn.pipeline import make_pipeline\n",
        "from sklearn.metrics import accuracy_score , classification_report\n",
        "\n",
        "rf_model = make_pipeline(transform, RandomForestClassifier(n_estimators=100))\n",
        "rf_model.fit(X_train, y_train)"
      ],
      "metadata": {
        "id": "fAcGdbbDF-TP",
        "colab": {
          "base_uri": "https://localhost:8080/"
        },
        "outputId": "deb75157-f14f-4717-99e7-734bdea3bd26"
      },
      "execution_count": null,
      "outputs": [
        {
          "output_type": "execute_result",
          "data": {
            "text/plain": [
              "Pipeline(steps=[('columntransformer',\n",
              "                 ColumnTransformer(remainder='passthrough',\n",
              "                                   transformers=[('description_tfidf',\n",
              "                                                  TfidfVectorizer(stop_words='english'),\n",
              "                                                  'token_text')])),\n",
              "                ('randomforestclassifier', RandomForestClassifier())])"
            ]
          },
          "metadata": {},
          "execution_count": 33
        }
      ]
    },
    {
      "cell_type": "code",
      "source": [
        "np.save('/content/drive/MyDrive/DASC-Datasets/y_test.npy', y_test)"
      ],
      "metadata": {
        "id": "gF-xP-8VUc_n"
      },
      "execution_count": null,
      "outputs": []
    },
    {
      "cell_type": "code",
      "source": [
        "def get_result(model, X_test, y_test):\n",
        "  y_pred = model.predict(X_test)\n",
        "  accuracy = accuracy_score(y_test, y_pred)\n",
        "  c_rep = classification_report(y_test, y_pred)\n",
        "  f1 = f1_score(y_test, y_pred)\n",
        "\n",
        "  print(\"accuracy:\", accuracy)\n",
        "  print(\"f1:\", f1)\n",
        "  print(\"c_rep:\", c_rep)\n",
        "\n",
        "\n",
        "get_result(rf_model, X_test, y_test)\n",
        "rf_auc, rf_fpr, rf_tpr = compute_ROC_data(rf_model, X_test, y_test)\n",
        "print(\"AUC:\", rf_auc)"
      ],
      "metadata": {
        "id": "BLgVpjXNG4wa",
        "colab": {
          "base_uri": "https://localhost:8080/"
        },
        "outputId": "0ac460ef-0c21-4487-8332-6efea744c7a5"
      },
      "execution_count": null,
      "outputs": [
        {
          "output_type": "stream",
          "name": "stdout",
          "text": [
            "accuracy: 0.9223390141851209\n",
            "f1: 0.8988704318936876\n",
            "c_rep:               precision    recall  f1-score   support\n",
            "\n",
            "           0       0.92      0.96      0.94      5894\n",
            "           1       0.93      0.87      0.90      3905\n",
            "\n",
            "    accuracy                           0.92      9799\n",
            "   macro avg       0.92      0.91      0.92      9799\n",
            "weighted avg       0.92      0.92      0.92      9799\n",
            "\n",
            "AUC: 0.956425293284214\n"
          ]
        }
      ]
    },
    {
      "cell_type": "markdown",
      "source": [
        "# Naive Bayes"
      ],
      "metadata": {
        "id": "rlJKIECUyg1D"
      }
    },
    {
      "cell_type": "code",
      "source": [
        "nb_model = make_pipeline(transform, naive_bayes.MultinomialNB())\n",
        "nb_model.fit(X_train, y_train)\n",
        "\n",
        "get_result(nb_model, X_test, y_test)\n",
        "nb_auc, nb_fpr, nb_tpr = compute_ROC_data(nb_model, X_test, y_test)\n",
        "print(\"AUC:\", nb_auc)"
      ],
      "metadata": {
        "colab": {
          "base_uri": "https://localhost:8080/"
        },
        "id": "1_CoXyWbyjrE",
        "outputId": "f4707d22-8bf8-4c1e-cd3b-b01906b90d5c"
      },
      "execution_count": null,
      "outputs": [
        {
          "output_type": "stream",
          "name": "stdout",
          "text": [
            "accuracy: 0.8228390652107358\n",
            "f1: 0.7369696969696969\n",
            "c_rep:               precision    recall  f1-score   support\n",
            "\n",
            "           0       0.79      0.96      0.87      5894\n",
            "           1       0.90      0.62      0.74      3905\n",
            "\n",
            "    accuracy                           0.82      9799\n",
            "   macro avg       0.85      0.79      0.80      9799\n",
            "weighted avg       0.84      0.82      0.81      9799\n",
            "\n",
            "AUC: 0.876143733487081\n"
          ]
        }
      ]
    },
    {
      "cell_type": "markdown",
      "source": [
        "# Linear Model"
      ],
      "metadata": {
        "id": "yLoXt7K80Id6"
      }
    },
    {
      "cell_type": "code",
      "source": [
        "from sklearn import linear_model\n",
        "linear_model = make_pipeline(transform, linear_model.LogisticRegression())\n",
        "linear_model.fit(X_train, y_train)\n",
        "\n",
        "get_result(linear_model, X_test, y_test)\n",
        "ln_auc, ln_fpr, ln_tpr = compute_ROC_data(linear_model, X_test, y_test)\n",
        "print(\"AUC:\", ln_auc)"
      ],
      "metadata": {
        "colab": {
          "base_uri": "https://localhost:8080/"
        },
        "id": "_oLZjtRK0J6b",
        "outputId": "336de4fe-a741-4b5d-ddee-6a4cd5f3a4a9"
      },
      "execution_count": null,
      "outputs": [
        {
          "output_type": "stream",
          "name": "stderr",
          "text": [
            "/usr/local/lib/python3.7/dist-packages/sklearn/linear_model/_logistic.py:818: ConvergenceWarning: lbfgs failed to converge (status=1):\n",
            "STOP: TOTAL NO. of ITERATIONS REACHED LIMIT.\n",
            "\n",
            "Increase the number of iterations (max_iter) or scale the data as shown in:\n",
            "    https://scikit-learn.org/stable/modules/preprocessing.html\n",
            "Please also refer to the documentation for alternative solver options:\n",
            "    https://scikit-learn.org/stable/modules/linear_model.html#logistic-regression\n",
            "  extra_warning_msg=_LOGISTIC_SOLVER_CONVERGENCE_MSG,\n"
          ]
        },
        {
          "output_type": "stream",
          "name": "stdout",
          "text": [
            "accuracy: 0.77701806306766\n",
            "f1: 0.6770140428677014\n",
            "c_rep:               precision    recall  f1-score   support\n",
            "\n",
            "           0       0.77      0.90      0.83      5894\n",
            "           1       0.80      0.59      0.68      3905\n",
            "\n",
            "    accuracy                           0.78      9799\n",
            "   macro avg       0.78      0.74      0.75      9799\n",
            "weighted avg       0.78      0.78      0.77      9799\n",
            "\n",
            "AUC: 0.8218298562699887\n"
          ]
        }
      ]
    },
    {
      "cell_type": "markdown",
      "source": [
        "# SVM"
      ],
      "metadata": {
        "id": "j4nGqguI0X_Y"
      }
    },
    {
      "cell_type": "code",
      "source": [
        "svm_model = make_pipeline(transform, svm.SVC(kernel='linear'))\n",
        "svm_model.fit(X_train, y_train)\n",
        "\n",
        "y_pred = svm_model.predict(X_test)\n",
        "accuracy = accuracy_score(y_test, y_pred)\n",
        "accuracy"
      ],
      "metadata": {
        "id": "BuyhXVrS0ZWo"
      },
      "execution_count": null,
      "outputs": []
    },
    {
      "cell_type": "markdown",
      "source": [
        "# XGBoost"
      ],
      "metadata": {
        "id": "JBgaj3l10u-O"
      }
    },
    {
      "cell_type": "code",
      "source": [
        "import xgboost\n",
        "\n",
        "boosting_model = make_pipeline(transform, xgboost.XGBClassifier())\n",
        "boosting_model.fit(X_train, y_train)\n",
        "\n",
        "get_result(boosting_model, X_test, y_test)\n",
        "boosting_auc, boosting_fpr, boosting_tpr = compute_ROC_data(boosting_model, X_test, y_test)\n",
        "print(\"AUC:\", boosting_auc)"
      ],
      "metadata": {
        "colab": {
          "base_uri": "https://localhost:8080/"
        },
        "id": "L_c1tPZ-0wgX",
        "outputId": "83c899ae-702e-489b-fc15-68f88724e68e"
      },
      "execution_count": null,
      "outputs": [
        {
          "output_type": "stream",
          "name": "stdout",
          "text": [
            "accuracy: 0.9190733748341667\n",
            "f1: 0.889845811918322\n",
            "c_rep:               precision    recall  f1-score   support\n",
            "\n",
            "           0       0.89      0.98      0.94      5894\n",
            "           1       0.97      0.82      0.89      3905\n",
            "\n",
            "    accuracy                           0.92      9799\n",
            "   macro avg       0.93      0.90      0.91      9799\n",
            "weighted avg       0.92      0.92      0.92      9799\n",
            "\n",
            "AUC: 0.9411348679422681\n"
          ]
        }
      ]
    },
    {
      "cell_type": "markdown",
      "source": [
        "## AdaBoost"
      ],
      "metadata": {
        "id": "SYPStB_TBVBW"
      }
    },
    {
      "cell_type": "code",
      "source": [
        "from sklearn.ensemble import AdaBoostClassifier\n",
        "\n",
        "adaboost_model = make_pipeline(transform, AdaBoostClassifier(n_estimators=100))\n",
        "adaboost_model.fit(X_train,y_train)\n",
        "\n",
        "get_result(adaboost_model, X_test, y_test)\n",
        "ada_auc, ada_fpr, ada_tpr = compute_ROC_data(adaboost_model, X_test, y_test)\n",
        "print(\"AUC:\", ada_auc)"
      ],
      "metadata": {
        "id": "7tq7n6G7LceH",
        "colab": {
          "base_uri": "https://localhost:8080/"
        },
        "outputId": "368f1cd1-ba14-4bc9-8365-8871f5427a17"
      },
      "execution_count": null,
      "outputs": [
        {
          "output_type": "stream",
          "name": "stdout",
          "text": [
            "accuracy: 0.9269313195224003\n",
            "f1: 0.9032432432432432\n",
            "c_rep:               precision    recall  f1-score   support\n",
            "\n",
            "           0       0.91      0.97      0.94      5894\n",
            "           1       0.96      0.86      0.90      3905\n",
            "\n",
            "    accuracy                           0.93      9799\n",
            "   macro avg       0.93      0.91      0.92      9799\n",
            "weighted avg       0.93      0.93      0.93      9799\n",
            "\n",
            "AUC: 0.9506137450920161\n"
          ]
        }
      ]
    },
    {
      "cell_type": "code",
      "source": [
        "# X_train"
      ],
      "metadata": {
        "colab": {
          "base_uri": "https://localhost:8080/",
          "height": 847
        },
        "id": "cFeFb81-A7Ps",
        "outputId": "ad9d3718-614b-4a7c-a681-2df86a794e7c"
      },
      "execution_count": null,
      "outputs": [
        {
          "output_type": "execute_result",
          "data": {
            "text/html": [
              "<div>\n",
              "<style scoped>\n",
              "    .dataframe tbody tr th:only-of-type {\n",
              "        vertical-align: middle;\n",
              "    }\n",
              "\n",
              "    .dataframe tbody tr th {\n",
              "        vertical-align: top;\n",
              "    }\n",
              "\n",
              "    .dataframe thead th {\n",
              "        text-align: right;\n",
              "    }\n",
              "</style>\n",
              "<table border=\"1\" class=\"dataframe\">\n",
              "  <thead>\n",
              "    <tr style=\"text-align: right;\">\n",
              "      <th></th>\n",
              "      <th>char_count</th>\n",
              "      <th>word_count</th>\n",
              "      <th>word_density</th>\n",
              "      <th>punctuation_count</th>\n",
              "      <th>title_word_count</th>\n",
              "      <th>upper_case_word_count</th>\n",
              "      <th>noun_count</th>\n",
              "      <th>verb_count</th>\n",
              "      <th>adj_count</th>\n",
              "      <th>adv_count</th>\n",
              "      <th>pron_count</th>\n",
              "      <th>token_text</th>\n",
              "      <th>lda</th>\n",
              "    </tr>\n",
              "  </thead>\n",
              "  <tbody>\n",
              "    <tr>\n",
              "      <th>38864</th>\n",
              "      <td>219</td>\n",
              "      <td>33</td>\n",
              "      <td>6.441176</td>\n",
              "      <td>3</td>\n",
              "      <td>0</td>\n",
              "      <td>0</td>\n",
              "      <td>8</td>\n",
              "      <td>7</td>\n",
              "      <td>4</td>\n",
              "      <td>4</td>\n",
              "      <td>1</td>\n",
              "      <td>average celebretard eighth grade education lea...</td>\n",
              "      <td>1.0</td>\n",
              "    </tr>\n",
              "    <tr>\n",
              "      <th>19683</th>\n",
              "      <td>14</td>\n",
              "      <td>3</td>\n",
              "      <td>3.500000</td>\n",
              "      <td>1</td>\n",
              "      <td>0</td>\n",
              "      <td>0</td>\n",
              "      <td>0</td>\n",
              "      <td>1</td>\n",
              "      <td>0</td>\n",
              "      <td>0</td>\n",
              "      <td>1</td>\n",
              "      <td>work</td>\n",
              "      <td>1.0</td>\n",
              "    </tr>\n",
              "    <tr>\n",
              "      <th>20755</th>\n",
              "      <td>88</td>\n",
              "      <td>14</td>\n",
              "      <td>5.866667</td>\n",
              "      <td>7</td>\n",
              "      <td>0</td>\n",
              "      <td>0</td>\n",
              "      <td>7</td>\n",
              "      <td>3</td>\n",
              "      <td>1</td>\n",
              "      <td>1</td>\n",
              "      <td>1</td>\n",
              "      <td>stephen colbert late writer glad ruin brett ka...</td>\n",
              "      <td>1.0</td>\n",
              "    </tr>\n",
              "    <tr>\n",
              "      <th>11118</th>\n",
              "      <td>174</td>\n",
              "      <td>33</td>\n",
              "      <td>5.117647</td>\n",
              "      <td>9</td>\n",
              "      <td>0</td>\n",
              "      <td>0</td>\n",
              "      <td>11</td>\n",
              "      <td>3</td>\n",
              "      <td>3</td>\n",
              "      <td>4</td>\n",
              "      <td>2</td>\n",
              "      <td>god open shut case johnson saw rookie apparent...</td>\n",
              "      <td>0.0</td>\n",
              "    </tr>\n",
              "    <tr>\n",
              "      <th>2453</th>\n",
              "      <td>16</td>\n",
              "      <td>2</td>\n",
              "      <td>5.333333</td>\n",
              "      <td>3</td>\n",
              "      <td>0</td>\n",
              "      <td>0</td>\n",
              "      <td>2</td>\n",
              "      <td>1</td>\n",
              "      <td>0</td>\n",
              "      <td>0</td>\n",
              "      <td>0</td>\n",
              "      <td>remove</td>\n",
              "      <td>0.0</td>\n",
              "    </tr>\n",
              "    <tr>\n",
              "      <th>...</th>\n",
              "      <td>...</td>\n",
              "      <td>...</td>\n",
              "      <td>...</td>\n",
              "      <td>...</td>\n",
              "      <td>...</td>\n",
              "      <td>...</td>\n",
              "      <td>...</td>\n",
              "      <td>...</td>\n",
              "      <td>...</td>\n",
              "      <td>...</td>\n",
              "      <td>...</td>\n",
              "      <td>...</td>\n",
              "      <td>...</td>\n",
              "    </tr>\n",
              "    <tr>\n",
              "      <th>11284</th>\n",
              "      <td>98</td>\n",
              "      <td>18</td>\n",
              "      <td>5.157895</td>\n",
              "      <td>7</td>\n",
              "      <td>0</td>\n",
              "      <td>0</td>\n",
              "      <td>3</td>\n",
              "      <td>3</td>\n",
              "      <td>5</td>\n",
              "      <td>3</td>\n",
              "      <td>0</td>\n",
              "      <td>true fair replace white man black man similar ...</td>\n",
              "      <td>1.0</td>\n",
              "    </tr>\n",
              "    <tr>\n",
              "      <th>44732</th>\n",
              "      <td>282</td>\n",
              "      <td>51</td>\n",
              "      <td>5.423077</td>\n",
              "      <td>5</td>\n",
              "      <td>0</td>\n",
              "      <td>0</td>\n",
              "      <td>17</td>\n",
              "      <td>15</td>\n",
              "      <td>3</td>\n",
              "      <td>4</td>\n",
              "      <td>4</td>\n",
              "      <td>shitbags want score point disease ride sjw bit...</td>\n",
              "      <td>0.0</td>\n",
              "    </tr>\n",
              "    <tr>\n",
              "      <th>38158</th>\n",
              "      <td>119</td>\n",
              "      <td>19</td>\n",
              "      <td>5.950000</td>\n",
              "      <td>3</td>\n",
              "      <td>0</td>\n",
              "      <td>0</td>\n",
              "      <td>5</td>\n",
              "      <td>2</td>\n",
              "      <td>3</td>\n",
              "      <td>2</td>\n",
              "      <td>1</td>\n",
              "      <td>right zero white people welfare die shitty ide...</td>\n",
              "      <td>0.0</td>\n",
              "    </tr>\n",
              "    <tr>\n",
              "      <th>860</th>\n",
              "      <td>77</td>\n",
              "      <td>15</td>\n",
              "      <td>4.812500</td>\n",
              "      <td>2</td>\n",
              "      <td>0</td>\n",
              "      <td>0</td>\n",
              "      <td>0</td>\n",
              "      <td>4</td>\n",
              "      <td>3</td>\n",
              "      <td>0</td>\n",
              "      <td>2</td>\n",
              "      <td>special unable score special retard</td>\n",
              "      <td>0.0</td>\n",
              "    </tr>\n",
              "    <tr>\n",
              "      <th>15795</th>\n",
              "      <td>20</td>\n",
              "      <td>4</td>\n",
              "      <td>4.000000</td>\n",
              "      <td>0</td>\n",
              "      <td>0</td>\n",
              "      <td>0</td>\n",
              "      <td>3</td>\n",
              "      <td>2</td>\n",
              "      <td>0</td>\n",
              "      <td>0</td>\n",
              "      <td>0</td>\n",
              "      <td>shit retard</td>\n",
              "      <td>0.0</td>\n",
              "    </tr>\n",
              "  </tbody>\n",
              "</table>\n",
              "<p>39193 rows × 13 columns</p>\n",
              "</div>"
            ],
            "text/plain": [
              "       char_count  ...  lda\n",
              "38864         219  ...  1.0\n",
              "19683          14  ...  1.0\n",
              "20755          88  ...  1.0\n",
              "11118         174  ...  0.0\n",
              "2453           16  ...  0.0\n",
              "...           ...  ...  ...\n",
              "11284          98  ...  1.0\n",
              "44732         282  ...  0.0\n",
              "38158         119  ...  0.0\n",
              "860            77  ...  0.0\n",
              "15795          20  ...  0.0\n",
              "\n",
              "[39193 rows x 13 columns]"
            ]
          },
          "metadata": {},
          "execution_count": 14
        }
      ]
    },
    {
      "cell_type": "markdown",
      "source": [
        "## LGBM"
      ],
      "metadata": {
        "id": "1Gnxcp23BYvc"
      }
    },
    {
      "cell_type": "code",
      "source": [
        "from lightgbm import LGBMClassifier\n",
        "\n",
        "lgbm_model =make_pipeline(transform, LGBMClassifier(objective='binary', random_state=5)) \n",
        "lgbm_model.fit(X_train,y_train)\n",
        "\n",
        "get_result(lgbm_model, X_test, y_test)\n",
        "lgbm_auc, lgbm_fpr, lgbm_tpr = compute_ROC_data(lgbm_model, X_test, y_test)\n",
        "print(\"AUC:\", lgbm_auc)"
      ],
      "metadata": {
        "colab": {
          "base_uri": "https://localhost:8080/"
        },
        "id": "6_OeFsdNBQMy",
        "outputId": "a54e9ce2-3ab8-44de-a479-a629e1feda1e"
      },
      "execution_count": null,
      "outputs": [
        {
          "output_type": "stream",
          "name": "stdout",
          "text": [
            "accuracy: 0.9288702928870293\n",
            "f1: 0.9061026539135121\n",
            "c_rep:               precision    recall  f1-score   support\n",
            "\n",
            "           0       0.91      0.97      0.94      5894\n",
            "           1       0.96      0.86      0.91      3905\n",
            "\n",
            "    accuracy                           0.93      9799\n",
            "   macro avg       0.93      0.92      0.92      9799\n",
            "weighted avg       0.93      0.93      0.93      9799\n",
            "\n",
            "AUC: 0.9605917952109112\n"
          ]
        }
      ]
    },
    {
      "cell_type": "markdown",
      "source": [
        "## Decision Tree"
      ],
      "metadata": {
        "id": "3JJkySp0Ba0m"
      }
    },
    {
      "cell_type": "code",
      "source": [
        "from sklearn.tree import DecisionTreeClassifier\n",
        "\n",
        "dt_model = make_pipeline(transform, DecisionTreeClassifier()) \n",
        "dt_model.fit(X_train, y_train)\n",
        "\n",
        "get_result(dt_model, X_test, y_test)\n",
        "dt_auc, dt_fpr, dt_tpr = compute_ROC_data(dt_model, X_test, y_test)\n",
        "print(\"AUC:\", dt_auc)"
      ],
      "metadata": {
        "colab": {
          "base_uri": "https://localhost:8080/"
        },
        "id": "_BwnpSZFGQT2",
        "outputId": "cacbccfc-e393-452b-a017-1c33ef44beac"
      },
      "execution_count": null,
      "outputs": [
        {
          "output_type": "stream",
          "name": "stdout",
          "text": [
            "accuracy: 0.9111133789162159\n",
            "f1: 0.886485077544637\n",
            "c_rep:               precision    recall  f1-score   support\n",
            "\n",
            "           0       0.92      0.94      0.93      5894\n",
            "           1       0.90      0.87      0.89      3905\n",
            "\n",
            "    accuracy                           0.91      9799\n",
            "   macro avg       0.91      0.90      0.91      9799\n",
            "weighted avg       0.91      0.91      0.91      9799\n",
            "\n",
            "AUC: 0.9061122728597888\n"
          ]
        }
      ]
    },
    {
      "cell_type": "code",
      "source": [
        "from sklearn.ensemble import VotingClassifier\n",
        "\n",
        "clf1 = AdaBoostClassifier(n_estimators=100)\n",
        "clf2 = RandomForestClassifier(n_estimators=100)\n",
        "clf3 = LGBMClassifier(objective='binary', random_state=5)\n",
        "\n",
        "eclf1 = VotingClassifier(estimators=[('lr',clf1), ('rf', clf2), ('gnb', clf3)], voting='soft')\n",
        "\n",
        "vt_model = make_pipeline(transform, eclf1)\n",
        "vt_model = vt_model.fit(X_train, y_train)"
      ],
      "metadata": {
        "id": "pQovAywpTUms"
      },
      "execution_count": null,
      "outputs": []
    },
    {
      "cell_type": "code",
      "source": [
        "get_result(vt_model, X_test, y_test)\n",
        "vt_auc, vt_fpr, vt_tpr = compute_ROC_data(vt_model, X_test, y_test)\n",
        "print(\"AUC:\", vt_auc)"
      ],
      "metadata": {
        "colab": {
          "base_uri": "https://localhost:8080/"
        },
        "id": "oJSnc0ePICpw",
        "outputId": "3f8c2877-0de2-4b60-b929-81cee9db8654"
      },
      "execution_count": null,
      "outputs": [
        {
          "output_type": "stream",
          "name": "stdout",
          "text": [
            "accuracy: 0.9285641391978773\n",
            "f1: 0.9060654857756308\n",
            "c_rep:               precision    recall  f1-score   support\n",
            "\n",
            "           0       0.92      0.97      0.94      5894\n",
            "           1       0.95      0.86      0.91      3905\n",
            "\n",
            "    accuracy                           0.93      9799\n",
            "   macro avg       0.93      0.92      0.92      9799\n",
            "weighted avg       0.93      0.93      0.93      9799\n",
            "\n",
            "AUC: 0.9620738032166221\n"
          ]
        }
      ]
    },
    {
      "cell_type": "markdown",
      "source": [
        "## PLOT ROC CURVE"
      ],
      "metadata": {
        "id": "qpSzwDDvOZYD"
      }
    },
    {
      "cell_type": "code",
      "source": [
        "ns_probs = [0 for _ in range(len(y_test))]\n",
        "# lr_probs = lgbm_model.predict_proba(X_test)\n",
        "# lr_probs = lr_probs[:, 1]\n",
        "\n",
        "ns_auc = roc_auc_score(y_test, ns_probs)\n",
        "# lr_auc = roc_auc_score(y_test, lr_probs)\n",
        "\n",
        "ns_fpr, ns_tpr, _ = roc_curve(y_test, ns_probs)\n",
        "# lr_fpr, lr_tpr, _ = roc_curve(y_test, lr_probs)\n",
        "\n",
        "# rf_auc, rf_fpr, rf_tpr\n",
        "he_fpr = np.load('/content/drive/MyDrive/Classroom/Data Analytics/Term Project/Copy of hateXplain_fpr.npy')\n",
        "he_tpr= np.load('/content/drive/MyDrive/Classroom/Data Analytics/Term Project/Copy of hateXplain_tpr.npy')\n",
        "plt.plot(ns_fpr, ns_tpr, linestyle='dashed', label='No Skill')\n",
        "\n",
        "plt.plot(rf_fpr, rf_tpr, linestyle= 'solid', label='Random Forest')\n",
        "plt.plot(dt_fpr, dt_tpr, linestyle= 'solid', label='Decision Tree')\n",
        "plt.plot(ln_fpr, ln_tpr, linestyle= 'solid', label='Logistic Regression')\n",
        "plt.plot(nb_fpr, nb_tpr, linestyle= 'solid', label='Naive Bayes')\n",
        "plt.plot(ada_fpr, ada_tpr, linestyle= 'solid', label='AdaBoost')\n",
        "plt.plot(boosting_fpr, boosting_tpr, linestyle= 'solid', label='XGBoost')\n",
        "plt.plot(lgbm_fpr, lgbm_tpr, linestyle= 'solid', label='LGBM')\n",
        "plt.plot(he_fpr, he_tpr, linestyle= 'solid', label='HateXplain')\n",
        "\n",
        "plt.legend()\n",
        "plt.title('ROC Curves')\n",
        "plt.show()"
      ],
      "metadata": {
        "colab": {
          "base_uri": "https://localhost:8080/",
          "height": 281
        },
        "id": "aO06YybDOMNX",
        "outputId": "cc1edb66-a71a-414f-c04e-8b1914357c59"
      },
      "execution_count": null,
      "outputs": [
        {
          "output_type": "display_data",
          "data": {
            "image/png": "[encoded data removed]",
            "text/plain": [
              "<Figure size 432x288 with 1 Axes>"
            ]
          },
          "metadata": {
            "needs_background": "light"
          }
        }
      ]
    },
    {
      "cell_type": "code",
      "source": [
        "print(\"LGBM AUC:\", lgbm_auc)"
      ],
      "metadata": {
        "colab": {
          "base_uri": "https://localhost:8080/"
        },
        "id": "957BbXYwI7Ny",
        "outputId": "28db0e1e-0d8c-460c-e0f5-e8a874589319"
      },
      "execution_count": null,
      "outputs": [
        {
          "output_type": "stream",
          "name": "stdout",
          "text": [
            "LGBM AUC: 0.9605917952109112\n"
          ]
        }
      ]
    },
    {
      "cell_type": "code",
      "source": [
        "from sklearn.metrics import f1_score\n",
        "\n",
        "f1 = f1_score(y_test, y_pred_lgbm)\n",
        "f1"
      ],
      "metadata": {
        "colab": {
          "base_uri": "https://localhost:8080/"
        },
        "id": "m-qFxgWhQx2o",
        "outputId": "b0fcccf2-b856-4318-c491-3c3e7e0eef2a"
      },
      "execution_count": null,
      "outputs": [
        {
          "output_type": "execute_result",
          "data": {
            "text/plain": [
              "0.9061026539135121"
            ]
          },
          "metadata": {},
          "execution_count": 47
        }
      ]
    },
    {
      "cell_type": "code",
      "source": [
        "hatecheck_data = pd.read_csv('/content/drive/MyDrive/Classroom/Data Analytics/Term Project/test_suite_cases.csv')\n",
        "hatecheck_data = hatecheck_data.rename(columns={'test_case': 'text', 'label_gold': 'label'})\n",
        "hatecheck_data = hatecheck_data[['text','label']]\n",
        "hatecheck_data = hatecheck_data.replace('non-hateful',1)\n",
        "hatecheck_data = hatecheck_data.replace('hateful',0)\n",
        "# hatecheck_data.to_csv('hatecheck_labeled.csv', index=False)\n",
        "hatecheck_data"
      ],
      "metadata": {
        "colab": {
          "base_uri": "https://localhost:8080/",
          "height": 424
        },
        "id": "PdAmOVouRqcB",
        "outputId": "33895f07-b7ef-45d2-d4c3-259103719974"
      },
      "execution_count": null,
      "outputs": [
        {
          "output_type": "execute_result",
          "data": {
            "text/html": [
              "<div>\n",
              "<style scoped>\n",
              "    .dataframe tbody tr th:only-of-type {\n",
              "        vertical-align: middle;\n",
              "    }\n",
              "\n",
              "    .dataframe tbody tr th {\n",
              "        vertical-align: top;\n",
              "    }\n",
              "\n",
              "    .dataframe thead th {\n",
              "        text-align: right;\n",
              "    }\n",
              "</style>\n",
              "<table border=\"1\" class=\"dataframe\">\n",
              "  <thead>\n",
              "    <tr style=\"text-align: right;\">\n",
              "      <th></th>\n",
              "      <th>text</th>\n",
              "      <th>label</th>\n",
              "    </tr>\n",
              "  </thead>\n",
              "  <tbody>\n",
              "    <tr>\n",
              "      <th>0</th>\n",
              "      <td>I hate women.</td>\n",
              "      <td>0</td>\n",
              "    </tr>\n",
              "    <tr>\n",
              "      <th>1</th>\n",
              "      <td>I hate trans people.</td>\n",
              "      <td>0</td>\n",
              "    </tr>\n",
              "    <tr>\n",
              "      <th>2</th>\n",
              "      <td>I hate gay people.</td>\n",
              "      <td>0</td>\n",
              "    </tr>\n",
              "    <tr>\n",
              "      <th>3</th>\n",
              "      <td>I hate black people.</td>\n",
              "      <td>0</td>\n",
              "    </tr>\n",
              "    <tr>\n",
              "      <th>4</th>\n",
              "      <td>I hate disabled people.</td>\n",
              "      <td>0</td>\n",
              "    </tr>\n",
              "    <tr>\n",
              "      <th>...</th>\n",
              "      <td>...</td>\n",
              "      <td>...</td>\n",
              "    </tr>\n",
              "    <tr>\n",
              "      <th>3723</th>\n",
              "      <td>Gay people are all complete 4ssholes.</td>\n",
              "      <td>0</td>\n",
              "    </tr>\n",
              "    <tr>\n",
              "      <th>3724</th>\n",
              "      <td>Black people are all complete 4ssholes.</td>\n",
              "      <td>0</td>\n",
              "    </tr>\n",
              "    <tr>\n",
              "      <th>3725</th>\n",
              "      <td>Disabled people are all complete 4ssholes.</td>\n",
              "      <td>0</td>\n",
              "    </tr>\n",
              "    <tr>\n",
              "      <th>3726</th>\n",
              "      <td>Muslims are all complete 4ssholes.</td>\n",
              "      <td>0</td>\n",
              "    </tr>\n",
              "    <tr>\n",
              "      <th>3727</th>\n",
              "      <td>Immigrants are all complete 4ssholes.</td>\n",
              "      <td>0</td>\n",
              "    </tr>\n",
              "  </tbody>\n",
              "</table>\n",
              "<p>3728 rows × 2 columns</p>\n",
              "</div>"
            ],
            "text/plain": [
              "                                             text  label\n",
              "0                                  I hate women.       0\n",
              "1                           I hate trans people.       0\n",
              "2                             I hate gay people.       0\n",
              "3                           I hate black people.       0\n",
              "4                        I hate disabled people.       0\n",
              "...                                           ...    ...\n",
              "3723       Gay people are all complete 4ssholes.       0\n",
              "3724     Black people are all complete 4ssholes.       0\n",
              "3725  Disabled people are all complete 4ssholes.       0\n",
              "3726          Muslims are all complete 4ssholes.       0\n",
              "3727       Immigrants are all complete 4ssholes.       0\n",
              "\n",
              "[3728 rows x 2 columns]"
            ]
          },
          "metadata": {},
          "execution_count": 62
        }
      ]
    },
    {
      "cell_type": "code",
      "source": [
        "def to_lower(text) :\n",
        "  return text.lower()"
      ],
      "metadata": {
        "id": "Y-9877WLUA6R"
      },
      "execution_count": null,
      "outputs": []
    },
    {
      "cell_type": "code",
      "source": [
        "hatecheck_data['text_lower'] = hatecheck_data['text'].apply(to_lower)"
      ],
      "metadata": {
        "id": "qetls67pTXH4"
      },
      "execution_count": null,
      "outputs": []
    },
    {
      "cell_type": "code",
      "source": [
        "hatecheck_data"
      ],
      "metadata": {
        "colab": {
          "base_uri": "https://localhost:8080/",
          "height": 424
        },
        "id": "Ix6ABXiRT3pN",
        "outputId": "868cc466-a943-444f-82bb-acbd571e8936"
      },
      "execution_count": null,
      "outputs": [
        {
          "output_type": "execute_result",
          "data": {
            "text/html": [
              "<div>\n",
              "<style scoped>\n",
              "    .dataframe tbody tr th:only-of-type {\n",
              "        vertical-align: middle;\n",
              "    }\n",
              "\n",
              "    .dataframe tbody tr th {\n",
              "        vertical-align: top;\n",
              "    }\n",
              "\n",
              "    .dataframe thead th {\n",
              "        text-align: right;\n",
              "    }\n",
              "</style>\n",
              "<table border=\"1\" class=\"dataframe\">\n",
              "  <thead>\n",
              "    <tr style=\"text-align: right;\">\n",
              "      <th></th>\n",
              "      <th>text</th>\n",
              "      <th>label</th>\n",
              "      <th>text_lower</th>\n",
              "    </tr>\n",
              "  </thead>\n",
              "  <tbody>\n",
              "    <tr>\n",
              "      <th>0</th>\n",
              "      <td>I hate women.</td>\n",
              "      <td>0</td>\n",
              "      <td>i hate women.</td>\n",
              "    </tr>\n",
              "    <tr>\n",
              "      <th>1</th>\n",
              "      <td>I hate trans people.</td>\n",
              "      <td>0</td>\n",
              "      <td>i hate trans people.</td>\n",
              "    </tr>\n",
              "    <tr>\n",
              "      <th>2</th>\n",
              "      <td>I hate gay people.</td>\n",
              "      <td>0</td>\n",
              "      <td>i hate gay people.</td>\n",
              "    </tr>\n",
              "    <tr>\n",
              "      <th>3</th>\n",
              "      <td>I hate black people.</td>\n",
              "      <td>0</td>\n",
              "      <td>i hate black people.</td>\n",
              "    </tr>\n",
              "    <tr>\n",
              "      <th>4</th>\n",
              "      <td>I hate disabled people.</td>\n",
              "      <td>0</td>\n",
              "      <td>i hate disabled people.</td>\n",
              "    </tr>\n",
              "    <tr>\n",
              "      <th>...</th>\n",
              "      <td>...</td>\n",
              "      <td>...</td>\n",
              "      <td>...</td>\n",
              "    </tr>\n",
              "    <tr>\n",
              "      <th>3723</th>\n",
              "      <td>Gay people are all complete 4ssholes.</td>\n",
              "      <td>0</td>\n",
              "      <td>gay people are all complete 4ssholes.</td>\n",
              "    </tr>\n",
              "    <tr>\n",
              "      <th>3724</th>\n",
              "      <td>Black people are all complete 4ssholes.</td>\n",
              "      <td>0</td>\n",
              "      <td>black people are all complete 4ssholes.</td>\n",
              "    </tr>\n",
              "    <tr>\n",
              "      <th>3725</th>\n",
              "      <td>Disabled people are all complete 4ssholes.</td>\n",
              "      <td>0</td>\n",
              "      <td>disabled people are all complete 4ssholes.</td>\n",
              "    </tr>\n",
              "    <tr>\n",
              "      <th>3726</th>\n",
              "      <td>Muslims are all complete 4ssholes.</td>\n",
              "      <td>0</td>\n",
              "      <td>muslims are all complete 4ssholes.</td>\n",
              "    </tr>\n",
              "    <tr>\n",
              "      <th>3727</th>\n",
              "      <td>Immigrants are all complete 4ssholes.</td>\n",
              "      <td>0</td>\n",
              "      <td>immigrants are all complete 4ssholes.</td>\n",
              "    </tr>\n",
              "  </tbody>\n",
              "</table>\n",
              "<p>3728 rows × 3 columns</p>\n",
              "</div>"
            ],
            "text/plain": [
              "                                             text  ...                                   text_lower\n",
              "0                                  I hate women.   ...                               i hate women. \n",
              "1                           I hate trans people.   ...                        i hate trans people. \n",
              "2                             I hate gay people.   ...                          i hate gay people. \n",
              "3                           I hate black people.   ...                        i hate black people. \n",
              "4                        I hate disabled people.   ...                     i hate disabled people. \n",
              "...                                           ...  ...                                          ...\n",
              "3723       Gay people are all complete 4ssholes.   ...       gay people are all complete 4ssholes. \n",
              "3724     Black people are all complete 4ssholes.   ...     black people are all complete 4ssholes. \n",
              "3725  Disabled people are all complete 4ssholes.   ...  disabled people are all complete 4ssholes. \n",
              "3726          Muslims are all complete 4ssholes.   ...          muslims are all complete 4ssholes. \n",
              "3727       Immigrants are all complete 4ssholes.   ...       immigrants are all complete 4ssholes. \n",
              "\n",
              "[3728 rows x 3 columns]"
            ]
          },
          "metadata": {},
          "execution_count": 65
        }
      ]
    },
    {
      "cell_type": "code",
      "source": [
        "hatecheck_data['char_count'] = hatecheck_data['text'].fillna('').astype(str).map(len)\n",
        "hatecheck_data['word_count'] = hatecheck_data['text'].fillna('').astype(str).map(lambda x: len(x.split()))\n",
        "hatecheck_data['word_density'] = hatecheck_data['char_count'] / (hatecheck_data['word_count']+1)\n",
        "hatecheck_data['punctuation_count'] = hatecheck_data['text'].fillna('').astype(str).map(lambda x: len(\"\".join(_ for _ in x if _ in string.punctuation))) \n",
        "# hatecheck_data['title_word_count'] = hatecheck_data['text'].fillna('').astype(str).map(lambda x: len([wrd for wrd in x.split() if wrd.istitle()]))\n",
        "# hatecheck_data['upper_case_word_count'] = hatecheck_data['text'].fillna('').astype(str).map(lambda x: len([wrd for wrd in x.split() if wrd.isupper()]))\n",
        "hatecheck_data['tokens'] = hatecheck_data['text'].fillna('').astype(str).map(preprocess)\n",
        "\n",
        "import nltk\n",
        "nltk.download('punkt')\n",
        "nltk.download('averaged_perceptron_tagger')\n",
        "\n",
        "pos_family = {\n",
        "    'noun' : ['NN','NNS','NNP','NNPS'],\n",
        "    'pron' : ['PRP','PRP$','WP','WP$'],\n",
        "    'verb' : ['VB','VBD','VBG','VBN','VBP','VBZ'],\n",
        "    'adj' :  ['JJ','JJR','JJS'],\n",
        "    'adv' : ['RB','RBR','RBS','WRB']\n",
        "}\n",
        "\n",
        "# function to check and get the part of speech tag count of a words in a given sentence\n",
        "def check_pos_tag(x, flag):\n",
        "    cnt = 0\n",
        "    try:\n",
        "        wiki = textblob.TextBlob(x)\n",
        "        for tup in wiki.tags:\n",
        "            ppo = list(tup)[1]\n",
        "            if ppo in pos_family[flag]:\n",
        "                cnt += 1\n",
        "    except:\n",
        "        pass\n",
        "    return cnt\n",
        "\n",
        "hatecheck_data['noun_count'] =  hatecheck_data['text'].fillna('').astype(str).map(lambda x: check_pos_tag(x, 'noun'))\n",
        "hatecheck_data['verb_count'] =  hatecheck_data['text'].fillna('').astype(str).map(lambda x: check_pos_tag(x, 'verb'))\n",
        "hatecheck_data['adj_count'] = hatecheck_data['text'].fillna('').astype(str).map(lambda x: check_pos_tag(x, 'adj'))\n",
        "hatecheck_data['adv_count'] = hatecheck_data['text'].fillna('').astype(str).map(lambda x: check_pos_tag(x, 'adv'))\n",
        "hatecheck_data['pron_count'] = hatecheck_data['text'].fillna('').astype(str).map(lambda x: check_pos_tag(x, 'pron'))\n",
        "\n",
        "dict_ = corpora.Dictionary(hatecheck_data['tokens'])\n",
        "print(dict_)\n",
        "doc_term_matrix = [dict_.doc2bow(i) for i in hatecheck_data['tokens']]\n",
        "\n",
        "lda = gensim.models.ldamodel.LdaModel\n",
        "lda_model = lda(doc_term_matrix, num_topics=2, id2word=dict_, passes=1, random_state=0, eval_every=None)\n",
        "print(lda_model.print_topics(num_topics=2, num_words=10))\n",
        "\n",
        "lda_label = []\n",
        "count = 0 \n",
        "for i in lda_model[doc_term_matrix] :\n",
        "  # print(\"doc: \",count, i)\n",
        "  try :\n",
        "    a = i[0][1]\n",
        "  except:\n",
        "    a = int(0)\n",
        "  try :\n",
        "    b = i[1][1]\n",
        "  except :\n",
        "    b = int(0)\n",
        "\n",
        "  if(a>b) :\n",
        "    lda_label.append(float(0))\n",
        "  else :\n",
        "    lda_label.append(float(1))\n",
        "  count+=1\n",
        "\n",
        "hatecheck_data['token_text'] = hatecheck_data['tokens'].apply(combine)\n",
        "hatecheck_data['lda'] = lda_label"
      ],
      "metadata": {
        "colab": {
          "base_uri": "https://localhost:8080/"
        },
        "id": "G1w21TQdUMfA",
        "outputId": "1b059498-2205-4830-84f0-3034ccb26e64"
      },
      "execution_count": null,
      "outputs": [
        {
          "output_type": "stream",
          "name": "stdout",
          "text": [
            "[nltk_data] Downloading package punkt to /root/nltk_data...\n",
            "[nltk_data]   Package punkt is already up-to-date!\n",
            "[nltk_data] Downloading package averaged_perceptron_tagger to\n",
            "[nltk_data]     /root/nltk_data...\n",
            "[nltk_data]   Package averaged_perceptron_tagger is already up-to-\n",
            "[nltk_data]       date!\n",
            "Dictionary(973 unique tokens: ['hate', 'women', 'people', 'trans', 'gay']...)\n",
            "[(0, '0.152*\"people\" + 0.042*\"disable\" + 0.038*\"black\" + 0.036*\"gay\" + 0.036*\"trans\" + 0.032*\"like\" + 0.021*\"live\" + 0.019*\"person\" + 0.016*\"typical\" + 0.014*\"say\"'), (1, '0.041*\"like\" + 0.038*\"muslims\" + 0.035*\"immigrants\" + 0.034*\"women\" + 0.025*\"people\" + 0.018*\"country\" + 0.018*\"person\" + 0.012*\"trans\" + 0.012*\"muslim\" + 0.012*\"gay\"')]\n"
          ]
        }
      ]
    },
    {
      "cell_type": "code",
      "source": [
        "# hatecheck_train = hatecheck_data[['']]\n",
        "\n",
        "hatecheck_X = hatecheck_data[['char_count','word_count',\t'word_density',\t'punctuation_count',\t'noun_count',\t'verb_count',\t'adj_count',\t'adv_count',\t'pron_count', 'token_text', 'lda']]\n",
        "hatecheck_label = hatecheck_data['label']\n",
        "hatecheck_X"
      ],
      "metadata": {
        "colab": {
          "base_uri": "https://localhost:8080/",
          "height": 424
        },
        "id": "bZxvcCWiVcWQ",
        "outputId": "a9dadf2c-2f08-404d-d949-1dd40b4dfec4"
      },
      "execution_count": null,
      "outputs": [
        {
          "output_type": "execute_result",
          "data": {
            "text/html": [
              "<div>\n",
              "<style scoped>\n",
              "    .dataframe tbody tr th:only-of-type {\n",
              "        vertical-align: middle;\n",
              "    }\n",
              "\n",
              "    .dataframe tbody tr th {\n",
              "        vertical-align: top;\n",
              "    }\n",
              "\n",
              "    .dataframe thead th {\n",
              "        text-align: right;\n",
              "    }\n",
              "</style>\n",
              "<table border=\"1\" class=\"dataframe\">\n",
              "  <thead>\n",
              "    <tr style=\"text-align: right;\">\n",
              "      <th></th>\n",
              "      <th>char_count</th>\n",
              "      <th>word_count</th>\n",
              "      <th>word_density</th>\n",
              "      <th>punctuation_count</th>\n",
              "      <th>noun_count</th>\n",
              "      <th>verb_count</th>\n",
              "      <th>adj_count</th>\n",
              "      <th>adv_count</th>\n",
              "      <th>pron_count</th>\n",
              "      <th>token_text</th>\n",
              "      <th>lda</th>\n",
              "    </tr>\n",
              "  </thead>\n",
              "  <tbody>\n",
              "    <tr>\n",
              "      <th>0</th>\n",
              "      <td>14</td>\n",
              "      <td>3</td>\n",
              "      <td>3.500000</td>\n",
              "      <td>1</td>\n",
              "      <td>1</td>\n",
              "      <td>1</td>\n",
              "      <td>0</td>\n",
              "      <td>0</td>\n",
              "      <td>1</td>\n",
              "      <td>hate women</td>\n",
              "      <td>0.0</td>\n",
              "    </tr>\n",
              "    <tr>\n",
              "      <th>1</th>\n",
              "      <td>21</td>\n",
              "      <td>4</td>\n",
              "      <td>4.200000</td>\n",
              "      <td>1</td>\n",
              "      <td>2</td>\n",
              "      <td>1</td>\n",
              "      <td>0</td>\n",
              "      <td>0</td>\n",
              "      <td>1</td>\n",
              "      <td>hate trans people</td>\n",
              "      <td>0.0</td>\n",
              "    </tr>\n",
              "    <tr>\n",
              "      <th>2</th>\n",
              "      <td>19</td>\n",
              "      <td>4</td>\n",
              "      <td>3.800000</td>\n",
              "      <td>1</td>\n",
              "      <td>1</td>\n",
              "      <td>1</td>\n",
              "      <td>1</td>\n",
              "      <td>0</td>\n",
              "      <td>1</td>\n",
              "      <td>hate gay people</td>\n",
              "      <td>0.0</td>\n",
              "    </tr>\n",
              "    <tr>\n",
              "      <th>3</th>\n",
              "      <td>21</td>\n",
              "      <td>4</td>\n",
              "      <td>4.200000</td>\n",
              "      <td>1</td>\n",
              "      <td>1</td>\n",
              "      <td>1</td>\n",
              "      <td>1</td>\n",
              "      <td>0</td>\n",
              "      <td>1</td>\n",
              "      <td>hate black people</td>\n",
              "      <td>0.0</td>\n",
              "    </tr>\n",
              "    <tr>\n",
              "      <th>4</th>\n",
              "      <td>24</td>\n",
              "      <td>4</td>\n",
              "      <td>4.800000</td>\n",
              "      <td>1</td>\n",
              "      <td>1</td>\n",
              "      <td>1</td>\n",
              "      <td>1</td>\n",
              "      <td>0</td>\n",
              "      <td>1</td>\n",
              "      <td>hate disable people</td>\n",
              "      <td>0.0</td>\n",
              "    </tr>\n",
              "    <tr>\n",
              "      <th>...</th>\n",
              "      <td>...</td>\n",
              "      <td>...</td>\n",
              "      <td>...</td>\n",
              "      <td>...</td>\n",
              "      <td>...</td>\n",
              "      <td>...</td>\n",
              "      <td>...</td>\n",
              "      <td>...</td>\n",
              "      <td>...</td>\n",
              "      <td>...</td>\n",
              "      <td>...</td>\n",
              "    </tr>\n",
              "    <tr>\n",
              "      <th>3723</th>\n",
              "      <td>38</td>\n",
              "      <td>6</td>\n",
              "      <td>5.428571</td>\n",
              "      <td>1</td>\n",
              "      <td>1</td>\n",
              "      <td>1</td>\n",
              "      <td>2</td>\n",
              "      <td>0</td>\n",
              "      <td>0</td>\n",
              "      <td>gay people complete ssholes</td>\n",
              "      <td>0.0</td>\n",
              "    </tr>\n",
              "    <tr>\n",
              "      <th>3724</th>\n",
              "      <td>40</td>\n",
              "      <td>6</td>\n",
              "      <td>5.714286</td>\n",
              "      <td>1</td>\n",
              "      <td>2</td>\n",
              "      <td>1</td>\n",
              "      <td>1</td>\n",
              "      <td>0</td>\n",
              "      <td>0</td>\n",
              "      <td>black people complete ssholes</td>\n",
              "      <td>0.0</td>\n",
              "    </tr>\n",
              "    <tr>\n",
              "      <th>3725</th>\n",
              "      <td>43</td>\n",
              "      <td>6</td>\n",
              "      <td>6.142857</td>\n",
              "      <td>1</td>\n",
              "      <td>1</td>\n",
              "      <td>1</td>\n",
              "      <td>2</td>\n",
              "      <td>0</td>\n",
              "      <td>0</td>\n",
              "      <td>disable people complete ssholes</td>\n",
              "      <td>0.0</td>\n",
              "    </tr>\n",
              "    <tr>\n",
              "      <th>3726</th>\n",
              "      <td>35</td>\n",
              "      <td>5</td>\n",
              "      <td>5.833333</td>\n",
              "      <td>1</td>\n",
              "      <td>1</td>\n",
              "      <td>1</td>\n",
              "      <td>1</td>\n",
              "      <td>0</td>\n",
              "      <td>0</td>\n",
              "      <td>muslims complete ssholes</td>\n",
              "      <td>1.0</td>\n",
              "    </tr>\n",
              "    <tr>\n",
              "      <th>3727</th>\n",
              "      <td>38</td>\n",
              "      <td>5</td>\n",
              "      <td>6.333333</td>\n",
              "      <td>1</td>\n",
              "      <td>1</td>\n",
              "      <td>1</td>\n",
              "      <td>1</td>\n",
              "      <td>0</td>\n",
              "      <td>0</td>\n",
              "      <td>immigrants complete ssholes</td>\n",
              "      <td>1.0</td>\n",
              "    </tr>\n",
              "  </tbody>\n",
              "</table>\n",
              "<p>3728 rows × 11 columns</p>\n",
              "</div>"
            ],
            "text/plain": [
              "      char_count  word_count  ...                       token_text  lda\n",
              "0             14           3  ...                       hate women  0.0\n",
              "1             21           4  ...                hate trans people  0.0\n",
              "2             19           4  ...                  hate gay people  0.0\n",
              "3             21           4  ...                hate black people  0.0\n",
              "4             24           4  ...              hate disable people  0.0\n",
              "...          ...         ...  ...                              ...  ...\n",
              "3723          38           6  ...      gay people complete ssholes  0.0\n",
              "3724          40           6  ...    black people complete ssholes  0.0\n",
              "3725          43           6  ...  disable people complete ssholes  0.0\n",
              "3726          35           5  ...         muslims complete ssholes  1.0\n",
              "3727          38           5  ...      immigrants complete ssholes  1.0\n",
              "\n",
              "[3728 rows x 11 columns]"
            ]
          },
          "metadata": {},
          "execution_count": 67
        }
      ]
    },
    {
      "cell_type": "code",
      "source": [
        "# y_pred_hc = lgbm_model.predict(hatecheck_X)\n",
        "# accuracy = accuracy_score(hatecheck_label, y_pred_hc)\n",
        "# c_rep = classification_report(hatecheck_label, y_pred_hc)\n",
        "# print(accuracy)\n",
        "# print(c_rep)\n",
        "\n",
        "\n",
        "get_result(lgbm_model, hatecheck_X, hatecheck_label)\n",
        "hc_auc, _, _ = compute_ROC_data(lgbm_model, hatecheck_X, hatecheck_label)\n",
        "print(\"AUC:\", hc_auc)"
      ],
      "metadata": {
        "colab": {
          "base_uri": "https://localhost:8080/"
        },
        "id": "N9tju0RHVpcZ",
        "outputId": "fae4ae0c-d08d-4b7a-c34e-17f1c084e41f"
      },
      "execution_count": null,
      "outputs": [
        {
          "output_type": "stream",
          "name": "stdout",
          "text": [
            "accuracy: 0.7022532188841202\n",
            "f1: 0.1641566265060241\n",
            "c_rep:               precision    recall  f1-score   support\n",
            "\n",
            "           0       0.70      0.98      0.82      2563\n",
            "           1       0.67      0.09      0.16      1165\n",
            "\n",
            "    accuracy                           0.70      3728\n",
            "   macro avg       0.69      0.54      0.49      3728\n",
            "weighted avg       0.69      0.70      0.61      3728\n",
            "\n",
            "AUC: 0.4860520882348509\n"
          ]
        }
      ]
    },
    {
      "cell_type": "code",
      "source": [],
      "metadata": {
        "id": "0HFK6pF4X45D"
      },
      "execution_count": null,
      "outputs": []
    }
  ]
}